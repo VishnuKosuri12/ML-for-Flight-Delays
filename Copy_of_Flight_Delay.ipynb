{
  "cells": [
    {
      "cell_type": "markdown",
      "metadata": {
        "id": "view-in-github",
        "colab_type": "text"
      },
      "source": [
        "<a href=\"https://colab.research.google.com/github/VishnuKosuri12/ML-for-Flight-Delays/blob/main/Copy_of_Flight_Delay.ipynb\" target=\"_parent\"><img src=\"https://colab.research.google.com/assets/colab-badge.svg\" alt=\"Open In Colab\"/></a>"
      ]
    },
    {
      "cell_type": "markdown",
      "metadata": {
        "id": "Yv1k2k7Km__V"
      },
      "source": [
        "# Problem: Predicting Airplane Delays\n",
        "\n",
        "The goals of this notebook are:\n",
        "- Process and create a dataset from downloaded .zip files\n",
        "- Perform exploratory data analysis (EDA)\n",
        "- Establish a baseline model\n",
        "- Move from a simple model to an ensemble model\n",
        "- Perform hyperparameter optimization\n",
        "- Check feature importance\n",
        "\n",
        "\n",
        "## Introduction to business scenario\n",
        "\n",
        "For travel booking website that wants to improve the customer experience for flights that were delayed. We can use the below alogorithms to train the LLM models to create and generate AI and a ML model to predict the dataset. Company wants to create a feature to let customers know if the flight will be delayed because of weather when they book a flight to or from the busiest airports for domestic travel in the US.\n",
        "\n",
        "You are tasked with solving part of this problem by using machine learning (ML) to identify whether the flight will be delayed because of weather. You have been given access to the a dataset about the on-time performance of domestic flights that were operated by large air carriers. You can use this data to train an ML model to predict if the flight is going to be delayed for the busiest airports.\n",
        "\n",
        "\n",
        "## About this dataset\n",
        "\n",
        "This dataset contains scheduled and actual departure and arrival times reported by certified US air carriers that account for at least 1 percent of domestic scheduled passenger revenues. The data was collected by the U.S. Office of Airline Information, Bureau of Transportation Statistics (BTS). The dataset contains date, time, origin, destination, airline, distance, and delay status of flights for flights between 2013 and 2018.\n",
        "\n",
        "\n",
        "### Features\n",
        "\n",
        "For more information about features in the dataset, see [On-time delay dataset features](https://www.transtats.bts.gov/Fields.asp).\n",
        "\n",
        "### Dataset attributions  \n",
        "Website: https://www.transtats.bts.gov/\n",
        "\n",
        "Dataset(s) used in this lab were compiled by the U.S. Office of Airline Information, Bureau of Transportation Statistics (BTS), Airline On-Time Performance Data, available at https://www.transtats.bts.gov/DatabaseInfo.asp?DB_ID=120&DB_URL=Mode_ID=1&Mode_Desc=Aviation&Subject_ID2=0."
      ]
    },
    {
      "cell_type": "markdown",
      "metadata": {
        "id": "5cSnzU6Mm__X"
      },
      "source": [
        "# Step 1: Problem formulation and data collection\n",
        "\n",
        "Start this project by writing a few sentences that summarize the business problem and the business goal that you want to achieve in this scenario. You can write down your ideas in the following sections. Include a business metric that you would like your team to aspire toward. After you define that information, write the ML problem statement. Finally, add a comment or two about the type of ML this activity represents.\n",
        "\n",
        "#### <span style=\"color: blue;\">Project presentation: Include a summary of these details in your project presentation.</span>\n",
        "\n",
        "### 1. Determine if and why ML is an appropriate solution to deploy for this scenario."
      ]
    },
    {
      "cell_type": "code",
      "execution_count": 8,
      "metadata": {
        "id": "pdTu_YcVm__X"
      },
      "outputs": [],
      "source": [
        "As we can use the below"
      ]
    },
    {
      "cell_type": "markdown",
      "metadata": {
        "id": "MTP-fiwKm__Y"
      },
      "source": [
        "### 2. Formulate the business problem, success metrics, and desired ML output."
      ]
    },
    {
      "cell_type": "code",
      "execution_count": null,
      "metadata": {
        "id": "QNXVtVGPm__Y"
      },
      "outputs": [],
      "source": [
        "# Write your answer here"
      ]
    },
    {
      "cell_type": "markdown",
      "metadata": {
        "id": "n812tTMlm__Y"
      },
      "source": [
        "### 3. Identify the type of ML problem that you're working with."
      ]
    },
    {
      "cell_type": "code",
      "execution_count": null,
      "metadata": {
        "id": "3dU0ThVam__Y"
      },
      "outputs": [],
      "source": [
        "# Write your answer here"
      ]
    },
    {
      "cell_type": "markdown",
      "metadata": {
        "id": "QKmO7mclm__Y"
      },
      "source": [
        "### 4. Analyze the appropriateness of the data that you're working with."
      ]
    },
    {
      "cell_type": "code",
      "execution_count": null,
      "metadata": {
        "id": "23rpEJhZm__Y"
      },
      "outputs": [],
      "source": [
        "# Write your answer her"
      ]
    },
    {
      "cell_type": "markdown",
      "metadata": {
        "id": "gt9_Xmuvm__Y"
      },
      "source": [
        "### Setup\n",
        "\n",
        "Now that you have decided where you want to focus your attention, you will set up this lab so that you can start solving the problem.\n",
        "\n",
        "**Note:** This notebook was created and tested on an `ml.m4.xlarge` notebook instance with 25 GB storage."
      ]
    },
    {
      "cell_type": "code",
      "execution_count": 1,
      "metadata": {
        "id": "TY7LlHyum__Y",
        "outputId": "cba42bb5-d551-4825-abec-c411ecf7d565",
        "colab": {
          "base_uri": "https://localhost:8080/"
        }
      },
      "outputs": [
        {
          "output_type": "stream",
          "name": "stdout",
          "text": [
            "Collecting pathlib2\n",
            "  Downloading pathlib2-2.3.7.post1-py2.py3-none-any.whl.metadata (3.5 kB)\n",
            "Requirement already satisfied: six in /usr/local/lib/python3.11/dist-packages (from pathlib2) (1.17.0)\n",
            "Downloading pathlib2-2.3.7.post1-py2.py3-none-any.whl (18 kB)\n",
            "Installing collected packages: pathlib2\n",
            "Successfully installed pathlib2-2.3.7.post1\n"
          ]
        }
      ],
      "source": [
        "!pip install pathlib2\n"
      ]
    },
    {
      "cell_type": "code",
      "execution_count": 4,
      "metadata": {
        "tags": [],
        "id": "4qzdekxOm__Z"
      },
      "outputs": [],
      "source": [
        "import os\n",
        "from pathlib2 import Path\n",
        "from zipfile import ZipFile\n",
        "import time\n",
        "\n",
        "import pandas as pd\n",
        "import numpy as np\n",
        "import subprocess\n",
        "\n",
        "import matplotlib.pyplot as plt\n",
        "import seaborn as sns\n",
        "\n",
        "sns.set()\n",
        "instance_type='ml.m4.xlarge'\n",
        "\n",
        "import warnings\n",
        "warnings.filterwarnings('ignore')\n",
        "\n",
        "%matplotlib inline"
      ]
    },
    {
      "cell_type": "markdown",
      "metadata": {
        "id": "Mmppiv7ym__Z"
      },
      "source": [
        "# Step 2: Data preprocessing and visualization  \n",
        "In this data preprocessing phase, you explore and visualize your data to better understand it. First, import the necessary libraries and read the data into a pandas DataFrame. After you import the data, explore the dataset. Look for the shape of the dataset and explore your columns and the types of columns that you will work with (numerical, categorical). Consider performing basic statistics on the features to get a sense of feature means and ranges. Examine your target column closely, and determine its distribution.\n",
        "\n",
        "\n",
        "### Specific questions to consider\n",
        "\n",
        "Throughout this section of the lab, consider the following questions:\n",
        "\n",
        "1. What can you deduce from the basic statistics that you ran on the features?\n",
        "2. What can you deduce from the distributions of the target classes?\n",
        "3. Is there anything else you can deduce by exploring the data?\n",
        "\n",
        "#### <span style=\"color: blue;\">Project presentation: Include a summary of your answers to these questions (and other similar questions) in your project presentation.</span>"
      ]
    },
    {
      "cell_type": "markdown",
      "metadata": {
        "id": "scMPvFqFm__Z"
      },
      "source": [
        "Start by bringing in the dataset from a public Amazon Simple Storage Service (Amazon S3) bucket to this notebook environment."
      ]
    },
    {
      "cell_type": "markdown",
      "metadata": {
        "id": "rHCj-yEBm__Z"
      },
      "source": [
        "Extract comma-separated values (CSV) files from the .zip files."
      ]
    },
    {
      "cell_type": "markdown",
      "metadata": {
        "id": "UYN6uigim__Z"
      },
      "source": [
        "Before you load the CSV file, read the HTML file from the extracted folder. This HTML file includes the background and more information about the features that are included in the dataset."
      ]
    },
    {
      "cell_type": "markdown",
      "metadata": {
        "id": "NxVeDIAkm__Z"
      },
      "source": [
        "#### Load sample CSV file\n",
        "\n",
        "Before you combine all the CSV files, examine the data from a single CSV file. By using pandas, read the `On_Time_Reporting_Carrier_On_Time_Performance_(1987_present)_2018_9.csv` file first. You can use the built-in `read_csv` function in Python ([pandas.read_csv documentation](https://pandas.pydata.org/pandas-docs/stable/reference/api/pandas.read_csv.html))."
      ]
    },
    {
      "cell_type": "markdown",
      "metadata": {
        "id": "nJQIBPPCm__Z"
      },
      "source": [
        "**Question**: Print the row and column length in the dataset, and print the column names.\n",
        "\n",
        "**Hint**: To view the rows and columns of a DataFrame, use the `<DataFrame>.shape` function. To view the column names, use the `<DataFrame>.columns` function."
      ]
    },
    {
      "cell_type": "code",
      "execution_count": null,
      "metadata": {
        "tags": [],
        "id": "tLro6ljVm__Z"
      },
      "outputs": [],
      "source": [
        "df_temp = pd.read_csv('df.csv')"
      ]
    },
    {
      "cell_type": "code",
      "execution_count": 9,
      "metadata": {
        "tags": [],
        "id": "JmYabkaOm__Z",
        "outputId": "2686db04-a6f9-4b32-cf80-f4318995ccae",
        "colab": {
          "base_uri": "https://localhost:8080/",
          "height": 159
        },
        "collapsed": true
      },
      "outputs": [
        {
          "output_type": "error",
          "ename": "NameError",
          "evalue": "name 'df_temp' is not defined",
          "traceback": [
            "\u001b[0;31m---------------------------------------------------------------------------\u001b[0m",
            "\u001b[0;31mNameError\u001b[0m                                 Traceback (most recent call last)",
            "\u001b[0;32m<ipython-input-9-700af75b56cd>\u001b[0m in \u001b[0;36m<cell line: 0>\u001b[0;34m()\u001b[0m\n\u001b[0;32m----> 1\u001b[0;31m \u001b[0mdf_shape\u001b[0m \u001b[0;34m=\u001b[0m \u001b[0mdf_temp\u001b[0m\u001b[0;34m.\u001b[0m\u001b[0mshape\u001b[0m\u001b[0;34m\u001b[0m\u001b[0;34m\u001b[0m\u001b[0m\n\u001b[0m\u001b[1;32m      2\u001b[0m \u001b[0mprint\u001b[0m\u001b[0;34m(\u001b[0m\u001b[0;34mf'Rows and columns in one CSV file is {df_shape}'\u001b[0m\u001b[0;34m)\u001b[0m\u001b[0;34m\u001b[0m\u001b[0;34m\u001b[0m\u001b[0m\n",
            "\u001b[0;31mNameError\u001b[0m: name 'df_temp' is not defined"
          ]
        }
      ],
      "source": [
        "df_shape = df_temp.shape\n",
        "print(f'Rows and columns in one CSV file is {df_shape}')"
      ]
    },
    {
      "cell_type": "markdown",
      "metadata": {
        "id": "_7PGamM0m__Z"
      },
      "source": [
        "**Question**: Print the first 10 rows of the dataset.  \n",
        "\n",
        "**Hint**: To print `x` number of rows, use the built-in `head(x)` function in pandas."
      ]
    },
    {
      "cell_type": "code",
      "execution_count": null,
      "metadata": {
        "tags": [],
        "id": "jSg4m30Xm__Z",
        "outputId": "f1004d20-8791-4dcc-f8aa-2d96a1f03c88"
      },
      "outputs": [
        {
          "data": {
            "text/html": [
              "<div>\n",
              "<style scoped>\n",
              "    .dataframe tbody tr th:only-of-type {\n",
              "        vertical-align: middle;\n",
              "    }\n",
              "\n",
              "    .dataframe tbody tr th {\n",
              "        vertical-align: top;\n",
              "    }\n",
              "\n",
              "    .dataframe thead th {\n",
              "        text-align: right;\n",
              "    }\n",
              "</style>\n",
              "<table border=\"1\" class=\"dataframe\">\n",
              "  <thead>\n",
              "    <tr style=\"text-align: right;\">\n",
              "      <th></th>\n",
              "      <th>Year</th>\n",
              "      <th>Quarter</th>\n",
              "      <th>Month</th>\n",
              "      <th>DayofMonth</th>\n",
              "      <th>DayOfWeek</th>\n",
              "      <th>FlightDate</th>\n",
              "      <th>Reporting_Airline</th>\n",
              "      <th>DOT_ID_Reporting_Airline</th>\n",
              "      <th>IATA_CODE_Reporting_Airline</th>\n",
              "      <th>Tail_Number</th>\n",
              "      <th>...</th>\n",
              "      <th>Div4TailNum</th>\n",
              "      <th>Div5Airport</th>\n",
              "      <th>Div5AirportID</th>\n",
              "      <th>Div5AirportSeqID</th>\n",
              "      <th>Div5WheelsOn</th>\n",
              "      <th>Div5TotalGTime</th>\n",
              "      <th>Div5LongestGTime</th>\n",
              "      <th>Div5WheelsOff</th>\n",
              "      <th>Div5TailNum</th>\n",
              "      <th>Unnamed: 109</th>\n",
              "    </tr>\n",
              "  </thead>\n",
              "  <tbody>\n",
              "    <tr>\n",
              "      <th>0</th>\n",
              "      <td>2018</td>\n",
              "      <td>3</td>\n",
              "      <td>9</td>\n",
              "      <td>3</td>\n",
              "      <td>1</td>\n",
              "      <td>2018-09-03</td>\n",
              "      <td>9E</td>\n",
              "      <td>20363</td>\n",
              "      <td>9E</td>\n",
              "      <td>N908XJ</td>\n",
              "      <td>...</td>\n",
              "      <td>NaN</td>\n",
              "      <td>NaN</td>\n",
              "      <td>NaN</td>\n",
              "      <td>NaN</td>\n",
              "      <td>NaN</td>\n",
              "      <td>NaN</td>\n",
              "      <td>NaN</td>\n",
              "      <td>NaN</td>\n",
              "      <td>NaN</td>\n",
              "      <td>NaN</td>\n",
              "    </tr>\n",
              "    <tr>\n",
              "      <th>1</th>\n",
              "      <td>2018</td>\n",
              "      <td>3</td>\n",
              "      <td>9</td>\n",
              "      <td>9</td>\n",
              "      <td>7</td>\n",
              "      <td>2018-09-09</td>\n",
              "      <td>9E</td>\n",
              "      <td>20363</td>\n",
              "      <td>9E</td>\n",
              "      <td>N315PQ</td>\n",
              "      <td>...</td>\n",
              "      <td>NaN</td>\n",
              "      <td>NaN</td>\n",
              "      <td>NaN</td>\n",
              "      <td>NaN</td>\n",
              "      <td>NaN</td>\n",
              "      <td>NaN</td>\n",
              "      <td>NaN</td>\n",
              "      <td>NaN</td>\n",
              "      <td>NaN</td>\n",
              "      <td>NaN</td>\n",
              "    </tr>\n",
              "    <tr>\n",
              "      <th>2</th>\n",
              "      <td>2018</td>\n",
              "      <td>3</td>\n",
              "      <td>9</td>\n",
              "      <td>10</td>\n",
              "      <td>1</td>\n",
              "      <td>2018-09-10</td>\n",
              "      <td>9E</td>\n",
              "      <td>20363</td>\n",
              "      <td>9E</td>\n",
              "      <td>N582CA</td>\n",
              "      <td>...</td>\n",
              "      <td>NaN</td>\n",
              "      <td>NaN</td>\n",
              "      <td>NaN</td>\n",
              "      <td>NaN</td>\n",
              "      <td>NaN</td>\n",
              "      <td>NaN</td>\n",
              "      <td>NaN</td>\n",
              "      <td>NaN</td>\n",
              "      <td>NaN</td>\n",
              "      <td>NaN</td>\n",
              "    </tr>\n",
              "    <tr>\n",
              "      <th>3</th>\n",
              "      <td>2018</td>\n",
              "      <td>3</td>\n",
              "      <td>9</td>\n",
              "      <td>13</td>\n",
              "      <td>4</td>\n",
              "      <td>2018-09-13</td>\n",
              "      <td>9E</td>\n",
              "      <td>20363</td>\n",
              "      <td>9E</td>\n",
              "      <td>N292PQ</td>\n",
              "      <td>...</td>\n",
              "      <td>NaN</td>\n",
              "      <td>NaN</td>\n",
              "      <td>NaN</td>\n",
              "      <td>NaN</td>\n",
              "      <td>NaN</td>\n",
              "      <td>NaN</td>\n",
              "      <td>NaN</td>\n",
              "      <td>NaN</td>\n",
              "      <td>NaN</td>\n",
              "      <td>NaN</td>\n",
              "    </tr>\n",
              "    <tr>\n",
              "      <th>4</th>\n",
              "      <td>2018</td>\n",
              "      <td>3</td>\n",
              "      <td>9</td>\n",
              "      <td>14</td>\n",
              "      <td>5</td>\n",
              "      <td>2018-09-14</td>\n",
              "      <td>9E</td>\n",
              "      <td>20363</td>\n",
              "      <td>9E</td>\n",
              "      <td>N600LR</td>\n",
              "      <td>...</td>\n",
              "      <td>NaN</td>\n",
              "      <td>NaN</td>\n",
              "      <td>NaN</td>\n",
              "      <td>NaN</td>\n",
              "      <td>NaN</td>\n",
              "      <td>NaN</td>\n",
              "      <td>NaN</td>\n",
              "      <td>NaN</td>\n",
              "      <td>NaN</td>\n",
              "      <td>NaN</td>\n",
              "    </tr>\n",
              "    <tr>\n",
              "      <th>5</th>\n",
              "      <td>2018</td>\n",
              "      <td>3</td>\n",
              "      <td>9</td>\n",
              "      <td>16</td>\n",
              "      <td>7</td>\n",
              "      <td>2018-09-16</td>\n",
              "      <td>9E</td>\n",
              "      <td>20363</td>\n",
              "      <td>9E</td>\n",
              "      <td>N316PQ</td>\n",
              "      <td>...</td>\n",
              "      <td>NaN</td>\n",
              "      <td>NaN</td>\n",
              "      <td>NaN</td>\n",
              "      <td>NaN</td>\n",
              "      <td>NaN</td>\n",
              "      <td>NaN</td>\n",
              "      <td>NaN</td>\n",
              "      <td>NaN</td>\n",
              "      <td>NaN</td>\n",
              "      <td>NaN</td>\n",
              "    </tr>\n",
              "    <tr>\n",
              "      <th>6</th>\n",
              "      <td>2018</td>\n",
              "      <td>3</td>\n",
              "      <td>9</td>\n",
              "      <td>17</td>\n",
              "      <td>1</td>\n",
              "      <td>2018-09-17</td>\n",
              "      <td>9E</td>\n",
              "      <td>20363</td>\n",
              "      <td>9E</td>\n",
              "      <td>N916XJ</td>\n",
              "      <td>...</td>\n",
              "      <td>NaN</td>\n",
              "      <td>NaN</td>\n",
              "      <td>NaN</td>\n",
              "      <td>NaN</td>\n",
              "      <td>NaN</td>\n",
              "      <td>NaN</td>\n",
              "      <td>NaN</td>\n",
              "      <td>NaN</td>\n",
              "      <td>NaN</td>\n",
              "      <td>NaN</td>\n",
              "    </tr>\n",
              "    <tr>\n",
              "      <th>7</th>\n",
              "      <td>2018</td>\n",
              "      <td>3</td>\n",
              "      <td>9</td>\n",
              "      <td>20</td>\n",
              "      <td>4</td>\n",
              "      <td>2018-09-20</td>\n",
              "      <td>9E</td>\n",
              "      <td>20363</td>\n",
              "      <td>9E</td>\n",
              "      <td>N371CA</td>\n",
              "      <td>...</td>\n",
              "      <td>NaN</td>\n",
              "      <td>NaN</td>\n",
              "      <td>NaN</td>\n",
              "      <td>NaN</td>\n",
              "      <td>NaN</td>\n",
              "      <td>NaN</td>\n",
              "      <td>NaN</td>\n",
              "      <td>NaN</td>\n",
              "      <td>NaN</td>\n",
              "      <td>NaN</td>\n",
              "    </tr>\n",
              "    <tr>\n",
              "      <th>8</th>\n",
              "      <td>2018</td>\n",
              "      <td>3</td>\n",
              "      <td>9</td>\n",
              "      <td>21</td>\n",
              "      <td>5</td>\n",
              "      <td>2018-09-21</td>\n",
              "      <td>9E</td>\n",
              "      <td>20363</td>\n",
              "      <td>9E</td>\n",
              "      <td>N601LR</td>\n",
              "      <td>...</td>\n",
              "      <td>NaN</td>\n",
              "      <td>NaN</td>\n",
              "      <td>NaN</td>\n",
              "      <td>NaN</td>\n",
              "      <td>NaN</td>\n",
              "      <td>NaN</td>\n",
              "      <td>NaN</td>\n",
              "      <td>NaN</td>\n",
              "      <td>NaN</td>\n",
              "      <td>NaN</td>\n",
              "    </tr>\n",
              "    <tr>\n",
              "      <th>9</th>\n",
              "      <td>2018</td>\n",
              "      <td>3</td>\n",
              "      <td>9</td>\n",
              "      <td>23</td>\n",
              "      <td>7</td>\n",
              "      <td>2018-09-23</td>\n",
              "      <td>9E</td>\n",
              "      <td>20363</td>\n",
              "      <td>9E</td>\n",
              "      <td>N906XJ</td>\n",
              "      <td>...</td>\n",
              "      <td>NaN</td>\n",
              "      <td>NaN</td>\n",
              "      <td>NaN</td>\n",
              "      <td>NaN</td>\n",
              "      <td>NaN</td>\n",
              "      <td>NaN</td>\n",
              "      <td>NaN</td>\n",
              "      <td>NaN</td>\n",
              "      <td>NaN</td>\n",
              "      <td>NaN</td>\n",
              "    </tr>\n",
              "  </tbody>\n",
              "</table>\n",
              "<p>10 rows × 110 columns</p>\n",
              "</div>"
            ],
            "text/plain": [
              "   Year  Quarter  Month  DayofMonth  DayOfWeek  FlightDate Reporting_Airline  \\\n",
              "0  2018        3      9           3          1  2018-09-03                9E   \n",
              "1  2018        3      9           9          7  2018-09-09                9E   \n",
              "2  2018        3      9          10          1  2018-09-10                9E   \n",
              "3  2018        3      9          13          4  2018-09-13                9E   \n",
              "4  2018        3      9          14          5  2018-09-14                9E   \n",
              "5  2018        3      9          16          7  2018-09-16                9E   \n",
              "6  2018        3      9          17          1  2018-09-17                9E   \n",
              "7  2018        3      9          20          4  2018-09-20                9E   \n",
              "8  2018        3      9          21          5  2018-09-21                9E   \n",
              "9  2018        3      9          23          7  2018-09-23                9E   \n",
              "\n",
              "   DOT_ID_Reporting_Airline IATA_CODE_Reporting_Airline Tail_Number  ...  \\\n",
              "0                     20363                          9E      N908XJ  ...   \n",
              "1                     20363                          9E      N315PQ  ...   \n",
              "2                     20363                          9E      N582CA  ...   \n",
              "3                     20363                          9E      N292PQ  ...   \n",
              "4                     20363                          9E      N600LR  ...   \n",
              "5                     20363                          9E      N316PQ  ...   \n",
              "6                     20363                          9E      N916XJ  ...   \n",
              "7                     20363                          9E      N371CA  ...   \n",
              "8                     20363                          9E      N601LR  ...   \n",
              "9                     20363                          9E      N906XJ  ...   \n",
              "\n",
              "   Div4TailNum  Div5Airport  Div5AirportID  Div5AirportSeqID Div5WheelsOn  \\\n",
              "0          NaN          NaN            NaN               NaN          NaN   \n",
              "1          NaN          NaN            NaN               NaN          NaN   \n",
              "2          NaN          NaN            NaN               NaN          NaN   \n",
              "3          NaN          NaN            NaN               NaN          NaN   \n",
              "4          NaN          NaN            NaN               NaN          NaN   \n",
              "5          NaN          NaN            NaN               NaN          NaN   \n",
              "6          NaN          NaN            NaN               NaN          NaN   \n",
              "7          NaN          NaN            NaN               NaN          NaN   \n",
              "8          NaN          NaN            NaN               NaN          NaN   \n",
              "9          NaN          NaN            NaN               NaN          NaN   \n",
              "\n",
              "  Div5TotalGTime Div5LongestGTime  Div5WheelsOff Div5TailNum  Unnamed: 109  \n",
              "0            NaN              NaN            NaN         NaN           NaN  \n",
              "1            NaN              NaN            NaN         NaN           NaN  \n",
              "2            NaN              NaN            NaN         NaN           NaN  \n",
              "3            NaN              NaN            NaN         NaN           NaN  \n",
              "4            NaN              NaN            NaN         NaN           NaN  \n",
              "5            NaN              NaN            NaN         NaN           NaN  \n",
              "6            NaN              NaN            NaN         NaN           NaN  \n",
              "7            NaN              NaN            NaN         NaN           NaN  \n",
              "8            NaN              NaN            NaN         NaN           NaN  \n",
              "9            NaN              NaN            NaN         NaN           NaN  \n",
              "\n",
              "[10 rows x 110 columns]"
            ]
          },
          "execution_count": 6,
          "metadata": {},
          "output_type": "execute_result"
        }
      ],
      "source": [
        "df_temp.head(10)"
      ]
    },
    {
      "cell_type": "markdown",
      "metadata": {
        "id": "IFk5l2ipm__a"
      },
      "source": [
        "**Question**: Print all the columns in the dataset. To view the column names, use `<DataFrame>.columns`."
      ]
    },
    {
      "cell_type": "code",
      "execution_count": null,
      "metadata": {
        "tags": [],
        "id": "M4CZEzAEm__a",
        "outputId": "8d4a412a-890c-4211-f691-487e6641bfe2"
      },
      "outputs": [
        {
          "name": "stdout",
          "output_type": "stream",
          "text": [
            "The column names are :\n",
            "#########\n",
            "Year\n",
            "Quarter\n",
            "Month\n",
            "DayofMonth\n",
            "DayOfWeek\n",
            "FlightDate\n",
            "Reporting_Airline\n",
            "DOT_ID_Reporting_Airline\n",
            "IATA_CODE_Reporting_Airline\n",
            "Tail_Number\n",
            "Flight_Number_Reporting_Airline\n",
            "OriginAirportID\n",
            "OriginAirportSeqID\n",
            "OriginCityMarketID\n",
            "Origin\n",
            "OriginCityName\n",
            "OriginState\n",
            "OriginStateFips\n",
            "OriginStateName\n",
            "OriginWac\n",
            "DestAirportID\n",
            "DestAirportSeqID\n",
            "DestCityMarketID\n",
            "Dest\n",
            "DestCityName\n",
            "DestState\n",
            "DestStateFips\n",
            "DestStateName\n",
            "DestWac\n",
            "CRSDepTime\n",
            "DepTime\n",
            "DepDelay\n",
            "DepDelayMinutes\n",
            "DepDel15\n",
            "DepartureDelayGroups\n",
            "DepTimeBlk\n",
            "TaxiOut\n",
            "WheelsOff\n",
            "WheelsOn\n",
            "TaxiIn\n",
            "CRSArrTime\n",
            "ArrTime\n",
            "ArrDelay\n",
            "ArrDelayMinutes\n",
            "ArrDel15\n",
            "ArrivalDelayGroups\n",
            "ArrTimeBlk\n",
            "Cancelled\n",
            "CancellationCode\n",
            "Diverted\n",
            "CRSElapsedTime\n",
            "ActualElapsedTime\n",
            "AirTime\n",
            "Flights\n",
            "Distance\n",
            "DistanceGroup\n",
            "CarrierDelay\n",
            "WeatherDelay\n",
            "NASDelay\n",
            "SecurityDelay\n",
            "LateAircraftDelay\n",
            "FirstDepTime\n",
            "TotalAddGTime\n",
            "LongestAddGTime\n",
            "DivAirportLandings\n",
            "DivReachedDest\n",
            "DivActualElapsedTime\n",
            "DivArrDelay\n",
            "DivDistance\n",
            "Div1Airport\n",
            "Div1AirportID\n",
            "Div1AirportSeqID\n",
            "Div1WheelsOn\n",
            "Div1TotalGTime\n",
            "Div1LongestGTime\n",
            "Div1WheelsOff\n",
            "Div1TailNum\n",
            "Div2Airport\n",
            "Div2AirportID\n",
            "Div2AirportSeqID\n",
            "Div2WheelsOn\n",
            "Div2TotalGTime\n",
            "Div2LongestGTime\n",
            "Div2WheelsOff\n",
            "Div2TailNum\n",
            "Div3Airport\n",
            "Div3AirportID\n",
            "Div3AirportSeqID\n",
            "Div3WheelsOn\n",
            "Div3TotalGTime\n",
            "Div3LongestGTime\n",
            "Div3WheelsOff\n",
            "Div3TailNum\n",
            "Div4Airport\n",
            "Div4AirportID\n",
            "Div4AirportSeqID\n",
            "Div4WheelsOn\n",
            "Div4TotalGTime\n",
            "Div4LongestGTime\n",
            "Div4WheelsOff\n",
            "Div4TailNum\n",
            "Div5Airport\n",
            "Div5AirportID\n",
            "Div5AirportSeqID\n",
            "Div5WheelsOn\n",
            "Div5TotalGTime\n",
            "Div5LongestGTime\n",
            "Div5WheelsOff\n",
            "Div5TailNum\n",
            "Unnamed: 109\n"
          ]
        }
      ],
      "source": [
        "print(f'The column names are :')\n",
        "print('#########')\n",
        "for col in df_temp.columns:\n",
        "    print(col)"
      ]
    },
    {
      "cell_type": "markdown",
      "metadata": {
        "id": "1KmEwasom__a"
      },
      "source": [
        "5 in [1,2,3,4,5]**Question**: Print all the columns in the dataset that contain the word *Del*. This will help you see how many columns have *delay data* in them.\n",
        "\n",
        "**Hint**: To include values that pass certain `if` statement criteria, you can use a Python list comprehension.\n",
        "\n",
        "For example: `[x for x in [1,2,3,4,5] if x > 2]`  \n",
        "\n",
        "**Hint**: To check if the value is in a list, you can use the `in` keyword ([Python in Keyword documentation](https://www.w3schools.com/python/ref_keyword_in.asp)).\n",
        "\n",
        "For example: `5 in [1,2,3,4,5]`"
      ]
    },
    {
      "cell_type": "code",
      "execution_count": null,
      "metadata": {
        "tags": [],
        "id": "XVMFGcSKm__a",
        "outputId": "ab621a7b-80b0-4ead-c5ba-8445c7219595"
      },
      "outputs": [
        {
          "data": {
            "text/plain": [
              "['DepDelay',\n",
              " 'DepDelayMinutes',\n",
              " 'DepDel15',\n",
              " 'DepartureDelayGroups',\n",
              " 'ArrDelay',\n",
              " 'ArrDelayMinutes',\n",
              " 'ArrDel15',\n",
              " 'ArrivalDelayGroups',\n",
              " 'CarrierDelay',\n",
              " 'WeatherDelay',\n",
              " 'NASDelay',\n",
              " 'SecurityDelay',\n",
              " 'LateAircraftDelay',\n",
              " 'DivArrDelay']"
            ]
          },
          "execution_count": 9,
          "metadata": {},
          "output_type": "execute_result"
        }
      ],
      "source": [
        "[col for col in df_temp.columns if 'Del' in col]"
      ]
    },
    {
      "cell_type": "markdown",
      "metadata": {
        "id": "_vSroG3Rm__a"
      },
      "source": [
        "Here are some more questions to help you learn more about your dataset.\n",
        "\n",
        "**Questions**   \n",
        "\n",
        "1. How many rows and columns does the dataset have?   \n",
        "2. How many years are included in the dataset?   \n",
        "3. What is the date range for the dataset?   \n",
        "4. Which airlines are included in the dataset?   \n",
        "5. Which origin and destination airports are covered?\n",
        "\n",
        "**Hints**\n",
        "- To show the dimensions of the DataFrame, use `df_temp.shape`.\n",
        "- To refer to a specific column, use `df_temp.columnName` (for example, `df_temp.CarrierDelay`).\n",
        "- To get unique values for a column, use `df_temp.column.unique()` (for, example `df_temp.Year.unique()`)."
      ]
    },
    {
      "cell_type": "code",
      "execution_count": null,
      "metadata": {
        "id": "txbdQsvSm__a",
        "outputId": "cf0e1abe-4d2a-4084-d639-d71a86977227"
      },
      "outputs": [
        {
          "name": "stdout",
          "output_type": "stream",
          "text": [
            "The #rows and #columns are  585749  and  110\n",
            "The years in this dataset are:  [2018]\n",
            "The date range for data is:  2018-09-01  to  2018-09-30\n",
            "The airlines covered in this dataset are:  ['9E' 'B6' 'WN' 'YV' 'YX' 'EV' 'AA' 'AS' 'DL' 'HA' 'UA' 'F9' 'G4' 'MQ'\n",
            " 'NK' 'OH' 'OO']\n",
            "The Origin airports covered are:  ['DFW' 'LGA' 'MSN' 'MSP' 'ATL' 'BDL' 'VLD' 'JFK' 'RDU' 'CHS' 'DTW' 'GRB'\n",
            " 'PVD' 'SHV' 'FNT' 'PIT' 'RIC' 'RST' 'RSW' 'CVG' 'LIT' 'ORD' 'JAX' 'TRI'\n",
            " 'BOS' 'CWA' 'DCA' 'CHO' 'AVP' 'IND' 'GRR' 'BTR' 'MEM' 'TUL' 'CLE' 'STL'\n",
            " 'BTV' 'OMA' 'MGM' 'TVC' 'SAV' 'GSP' 'EWR' 'OAJ' 'BNA' 'MCI' 'TLH' 'ROC'\n",
            " 'LEX' 'PWM' 'BUF' 'AGS' 'CLT' 'GSO' 'BWI' 'SAT' 'PHL' 'TYS' 'ACK' 'DSM'\n",
            " 'GNV' 'AVL' 'BGR' 'MHT' 'ILM' 'MOT' 'IAH' 'SBN' 'SYR' 'ORF' 'MKE' 'XNA'\n",
            " 'MSY' 'PBI' 'ABE' 'HPN' 'EVV' 'ALB' 'LNK' 'AUS' 'PHF' 'CHA' 'GTR' 'BMI'\n",
            " 'BQK' 'CID' 'CAK' 'ATW' 'ABY' 'CAE' 'SRQ' 'MLI' 'BHM' 'IAD' 'CSG' 'CMH'\n",
            " 'MCO' 'MBS' 'FLL' 'SDF' 'TPA' 'MVY' 'LAS' 'LGB' 'SFO' 'SAN' 'LAX' 'RNO'\n",
            " 'PDX' 'ANC' 'ABQ' 'SLC' 'DEN' 'PHX' 'OAK' 'SMF' 'SJU' 'SEA' 'HOU' 'STX'\n",
            " 'BUR' 'SWF' 'SJC' 'DAB' 'BQN' 'PSE' 'ORH' 'HYA' 'STT' 'ONT' 'HRL' 'ICT'\n",
            " 'ISP' 'LBB' 'MAF' 'MDW' 'OKC' 'PNS' 'SNA' 'TUS' 'AMA' 'BOI' 'CRP' 'DAL'\n",
            " 'ECP' 'ELP' 'GEG' 'LFT' 'MFE' 'MDT' 'JAN' 'COS' 'MOB' 'VPS' 'MTJ' 'DRO'\n",
            " 'GPT' 'BFL' 'MRY' 'SBA' 'PSP' 'FSD' 'BRO' 'RAP' 'COU' 'STS' 'PIA' 'FAT'\n",
            " 'SBP' 'FSM' 'HSV' 'BIS' 'DAY' 'BZN' 'MIA' 'EYW' 'MYR' 'HHH' 'GJT' 'FAR'\n",
            " 'SGF' 'HOB' 'CLL' 'LRD' 'AEX' 'ERI' 'MLU' 'LCH' 'ROA' 'LAW' 'MHK' 'GRK'\n",
            " 'SAF' 'GRI' 'JLN' 'ROW' 'FWA' 'CRW' 'LAN' 'OGG' 'HNL' 'KOA' 'EGE' 'LIH'\n",
            " 'MLB' 'JAC' 'FAI' 'RDM' 'ADQ' 'BET' 'BRW' 'SCC' 'KTN' 'YAK' 'CDV' 'JNU'\n",
            " 'SIT' 'PSG' 'WRG' 'OME' 'OTZ' 'ADK' 'FCA' 'FAY' 'PSC' 'BIL' 'MSO' 'ITO'\n",
            " 'PPG' 'MFR' 'EUG' 'GUM' 'SPN' 'DLH' 'TTN' 'BKG' 'SFB' 'PIE' 'PGD' 'AZA'\n",
            " 'SMX' 'RFD' 'SCK' 'OWB' 'HTS' 'BLV' 'IAG' 'USA' 'GFK' 'BLI' 'ELM' 'PBG'\n",
            " 'LCK' 'GTF' 'OGD' 'IDA' 'PVU' 'TOL' 'PSM' 'CKB' 'HGR' 'SPI' 'STC' 'ACT'\n",
            " 'TYR' 'ABI' 'AZO' 'CMI' 'BPT' 'GCK' 'MQT' 'ALO' 'TXK' 'SPS' 'SWO' 'DBQ'\n",
            " 'SUX' 'SJT' 'GGG' 'LSE' 'LBE' 'ACY' 'LYH' 'PGV' 'HVN' 'EWN' 'DHN' 'PIH'\n",
            " 'IMT' 'WYS' 'CPR' 'SCE' 'HLN' 'SUN' 'ISN' 'CMX' 'EAU' 'LWB' 'SHD' 'LBF'\n",
            " 'HYS' 'SLN' 'EAR' 'VEL' 'CNY' 'GCC' 'RKS' 'PUB' 'LBL' 'MKG' 'PAH' 'CGI'\n",
            " 'UIN' 'BFF' 'DVL' 'JMS' 'LAR' 'SGU' 'PRC' 'ASE' 'RDD' 'ACV' 'OTH' 'COD'\n",
            " 'LWS' 'ABR' 'APN' 'ESC' 'PLN' 'BJI' 'BRD' 'BTM' 'CDC' 'CIU' 'EKO' 'TWF'\n",
            " 'HIB' 'BGM' 'RHI' 'ITH' 'INL' 'FLG' 'YUM' 'MEI' 'PIB' 'HDN']\n",
            "The Destination airports covered are:  ['CVG' 'PWM' 'RDU' 'MSP' 'MSN' 'SHV' 'CLT' 'PIT' 'RIC' 'IAH' 'ATL' 'JFK'\n",
            " 'DCA' 'DTW' 'LGA' 'TYS' 'PVD' 'FNT' 'LIT' 'BUF' 'ORD' 'TRI' 'IND' 'BGR'\n",
            " 'AVP' 'BWI' 'LEX' 'BDL' 'GRR' 'CWA' 'TUL' 'MEM' 'AGS' 'EWR' 'MGM' 'PHL'\n",
            " 'SYR' 'OMA' 'STL' 'TVC' 'ORF' 'CLE' 'ABY' 'BOS' 'OAJ' 'TLH' 'BTR' 'SAT'\n",
            " 'JAX' 'BNA' 'CHO' 'VLD' 'ROC' 'DFW' 'GNV' 'ACK' 'PBI' 'CHS' 'GRB' 'MOT'\n",
            " 'MKE' 'DSM' 'ILM' 'GSO' 'MCI' 'SBN' 'BTV' 'MVY' 'XNA' 'RST' 'EVV' 'HPN'\n",
            " 'RSW' 'MDT' 'ROA' 'GSP' 'MCO' 'CSG' 'SAV' 'PHF' 'ALB' 'CHA' 'ABE' 'BMI'\n",
            " 'MSY' 'IAD' 'GTR' 'CID' 'CAK' 'ATW' 'AUS' 'BQK' 'MLI' 'CAE' 'CMH' 'AVL'\n",
            " 'MBS' 'FLL' 'SDF' 'TPA' 'LNK' 'SRQ' 'MHT' 'BHM' 'LAS' 'SFO' 'SAN' 'RNO'\n",
            " 'LGB' 'ANC' 'PDX' 'SJU' 'ABQ' 'SLC' 'DEN' 'LAX' 'PHX' 'OAK' 'SMF' 'SEA'\n",
            " 'STX' 'BUR' 'DAB' 'SJC' 'SWF' 'HOU' 'BQN' 'PSE' 'ORH' 'HYA' 'STT' 'ONT'\n",
            " 'DAL' 'ECP' 'ELP' 'HRL' 'MAF' 'MDW' 'OKC' 'PNS' 'SNA' 'AMA' 'BOI' 'GEG'\n",
            " 'ICT' 'LBB' 'TUS' 'ISP' 'CRP' 'MFE' 'LFT' 'VPS' 'JAN' 'COS' 'MOB' 'DRO'\n",
            " 'GPT' 'BFL' 'COU' 'SBP' 'MTJ' 'SBA' 'PSP' 'FSD' 'FSM' 'BRO' 'PIA' 'STS'\n",
            " 'FAT' 'RAP' 'MRY' 'HSV' 'BIS' 'DAY' 'BZN' 'MIA' 'EYW' 'MYR' 'HHH' 'GJT'\n",
            " 'FAR' 'MLU' 'LRD' 'CLL' 'LCH' 'FWA' 'GRK' 'SGF' 'HOB' 'LAW' 'MHK' 'SAF'\n",
            " 'JLN' 'ROW' 'GRI' 'AEX' 'CRW' 'LAN' 'ERI' 'HNL' 'KOA' 'OGG' 'EGE' 'LIH'\n",
            " 'JAC' 'MLB' 'RDM' 'BET' 'ADQ' 'BRW' 'SCC' 'FAI' 'JNU' 'CDV' 'YAK' 'SIT'\n",
            " 'KTN' 'WRG' 'PSG' 'OME' 'OTZ' 'ADK' 'FCA' 'BIL' 'PSC' 'FAY' 'MSO' 'ITO'\n",
            " 'PPG' 'MFR' 'DLH' 'EUG' 'GUM' 'SPN' 'TTN' 'BKG' 'AZA' 'SFB' 'LCK' 'BLI'\n",
            " 'SCK' 'PIE' 'RFD' 'PVU' 'PBG' 'BLV' 'PGD' 'SPI' 'USA' 'TOL' 'IDA' 'ELM'\n",
            " 'HTS' 'HGR' 'SMX' 'OGD' 'GFK' 'STC' 'GTF' 'IAG' 'CKB' 'OWB' 'PSM' 'ABI'\n",
            " 'TYR' 'ALO' 'SUX' 'AZO' 'ACT' 'CMI' 'BPT' 'TXK' 'SWO' 'SPS' 'DBQ' 'SJT'\n",
            " 'GGG' 'LSE' 'MQT' 'GCK' 'LBE' 'ACY' 'LYH' 'PGV' 'HVN' 'EWN' 'DHN' 'PIH'\n",
            " 'WYS' 'SCE' 'IMT' 'HLN' 'ASE' 'SUN' 'ISN' 'EAR' 'SGU' 'VEL' 'SHD' 'LWB'\n",
            " 'MKG' 'SLN' 'HYS' 'BFF' 'PUB' 'LBL' 'CMX' 'EAU' 'PAH' 'UIN' 'RKS' 'CGI'\n",
            " 'CNY' 'JMS' 'DVL' 'LAR' 'GCC' 'LBF' 'PRC' 'RDD' 'ACV' 'OTH' 'COD' 'LWS'\n",
            " 'ABR' 'APN' 'PLN' 'BJI' 'CPR' 'BRD' 'BTM' 'CDC' 'CIU' 'ESC' 'EKO' 'ITH'\n",
            " 'HIB' 'BGM' 'TWF' 'RHI' 'INL' 'FLG' 'YUM' 'MEI' 'PIB' 'HDN']\n"
          ]
        }
      ],
      "source": [
        "print(\"The #rows and #columns are \", df_temp.shape[0], \" and \", df_temp.shape[1])\n",
        "print(\"The years in this dataset are: \", df_temp.Year.unique())\n",
        "print(\"The date range for data is: \", df_temp.FlightDate.min(), \" to \", df_temp.FlightDate.max())\n",
        "print(\"The airlines covered in this dataset are: \", df_temp.Reporting_Airline.unique())\n",
        "print(\"The Origin airports covered are: \", df_temp.Origin.unique())\n",
        "print(\"The Destination airports covered are: \", df_temp.Dest.unique())"
      ]
    },
    {
      "cell_type": "markdown",
      "metadata": {
        "id": "lNJr_AVVm__a"
      },
      "source": [
        "**Question**: What is the count of all the origin and destination airports?\n",
        "\n",
        "**Hint**: To find the values for each airport by using the **Origin** and **Dest** columns, you can use the `values_count` function in pandas ([pandas.Series.value_counts documentation](https://pandas.pydata.org/pandas-docs/stable/reference/api/pandas.Series.value_counts.html))."
      ]
    },
    {
      "cell_type": "code",
      "execution_count": null,
      "metadata": {
        "id": "rjsbDHK3m__a",
        "outputId": "339b0936-e41d-468e-b293-270653216475"
      },
      "outputs": [
        {
          "data": {
            "text/html": [
              "<div>\n",
              "<style scoped>\n",
              "    .dataframe tbody tr th:only-of-type {\n",
              "        vertical-align: middle;\n",
              "    }\n",
              "\n",
              "    .dataframe tbody tr th {\n",
              "        vertical-align: top;\n",
              "    }\n",
              "\n",
              "    .dataframe thead th {\n",
              "        text-align: right;\n",
              "    }\n",
              "</style>\n",
              "<table border=\"1\" class=\"dataframe\">\n",
              "  <thead>\n",
              "    <tr style=\"text-align: right;\">\n",
              "      <th></th>\n",
              "      <th>Origin</th>\n",
              "      <th>Destination</th>\n",
              "    </tr>\n",
              "  </thead>\n",
              "  <tbody>\n",
              "    <tr>\n",
              "      <th>ABE</th>\n",
              "      <td>303</td>\n",
              "      <td>303</td>\n",
              "    </tr>\n",
              "    <tr>\n",
              "      <th>ABI</th>\n",
              "      <td>169</td>\n",
              "      <td>169</td>\n",
              "    </tr>\n",
              "    <tr>\n",
              "      <th>ABQ</th>\n",
              "      <td>2077</td>\n",
              "      <td>2076</td>\n",
              "    </tr>\n",
              "    <tr>\n",
              "      <th>ABR</th>\n",
              "      <td>60</td>\n",
              "      <td>60</td>\n",
              "    </tr>\n",
              "    <tr>\n",
              "      <th>ABY</th>\n",
              "      <td>79</td>\n",
              "      <td>79</td>\n",
              "    </tr>\n",
              "    <tr>\n",
              "      <th>...</th>\n",
              "      <td>...</td>\n",
              "      <td>...</td>\n",
              "    </tr>\n",
              "    <tr>\n",
              "      <th>WRG</th>\n",
              "      <td>60</td>\n",
              "      <td>60</td>\n",
              "    </tr>\n",
              "    <tr>\n",
              "      <th>WYS</th>\n",
              "      <td>52</td>\n",
              "      <td>52</td>\n",
              "    </tr>\n",
              "    <tr>\n",
              "      <th>XNA</th>\n",
              "      <td>1004</td>\n",
              "      <td>1004</td>\n",
              "    </tr>\n",
              "    <tr>\n",
              "      <th>YAK</th>\n",
              "      <td>60</td>\n",
              "      <td>60</td>\n",
              "    </tr>\n",
              "    <tr>\n",
              "      <th>YUM</th>\n",
              "      <td>96</td>\n",
              "      <td>96</td>\n",
              "    </tr>\n",
              "  </tbody>\n",
              "</table>\n",
              "<p>346 rows × 2 columns</p>\n",
              "</div>"
            ],
            "text/plain": [
              "     Origin  Destination\n",
              "ABE     303          303\n",
              "ABI     169          169\n",
              "ABQ    2077         2076\n",
              "ABR      60           60\n",
              "ABY      79           79\n",
              "..      ...          ...\n",
              "WRG      60           60\n",
              "WYS      52           52\n",
              "XNA    1004         1004\n",
              "YAK      60           60\n",
              "YUM      96           96\n",
              "\n",
              "[346 rows x 2 columns]"
            ]
          },
          "execution_count": 11,
          "metadata": {},
          "output_type": "execute_result"
        }
      ],
      "source": [
        "counts = pd.DataFrame({\n",
        "    'Origin': df_temp.Origin.value_counts(),\n",
        "    'Destination': df_temp.Dest.value_counts()\n",
        "})\n",
        "counts"
      ]
    },
    {
      "cell_type": "markdown",
      "metadata": {
        "id": "u4h_xsSMm__a"
      },
      "source": [
        "**Question**: Print the top 15 origin and destination airports based on number of flights in the dataset.\n",
        "\n",
        "**Hint**: You can use the `sort_values` function in pandas ([pandas.DataFrame.sort_values documentation](https://pandas.pydata.org/pandas-docs/stable/reference/api/pandas.DataFrame.sort_values.html))."
      ]
    },
    {
      "cell_type": "code",
      "execution_count": null,
      "metadata": {
        "id": "pT0ieWGmm__a",
        "outputId": "66fe469d-89b0-47ac-fd30-9422fcee554a"
      },
      "outputs": [
        {
          "data": {
            "text/html": [
              "<div>\n",
              "<style scoped>\n",
              "    .dataframe tbody tr th:only-of-type {\n",
              "        vertical-align: middle;\n",
              "    }\n",
              "\n",
              "    .dataframe tbody tr th {\n",
              "        vertical-align: top;\n",
              "    }\n",
              "\n",
              "    .dataframe thead th {\n",
              "        text-align: right;\n",
              "    }\n",
              "</style>\n",
              "<table border=\"1\" class=\"dataframe\">\n",
              "  <thead>\n",
              "    <tr style=\"text-align: right;\">\n",
              "      <th></th>\n",
              "      <th>Origin</th>\n",
              "      <th>Destination</th>\n",
              "    </tr>\n",
              "  </thead>\n",
              "  <tbody>\n",
              "    <tr>\n",
              "      <th>ATL</th>\n",
              "      <td>31525</td>\n",
              "      <td>31521</td>\n",
              "    </tr>\n",
              "    <tr>\n",
              "      <th>ORD</th>\n",
              "      <td>28257</td>\n",
              "      <td>28250</td>\n",
              "    </tr>\n",
              "    <tr>\n",
              "      <th>DFW</th>\n",
              "      <td>22802</td>\n",
              "      <td>22795</td>\n",
              "    </tr>\n",
              "    <tr>\n",
              "      <th>DEN</th>\n",
              "      <td>19807</td>\n",
              "      <td>19807</td>\n",
              "    </tr>\n",
              "    <tr>\n",
              "      <th>CLT</th>\n",
              "      <td>19655</td>\n",
              "      <td>19654</td>\n",
              "    </tr>\n",
              "    <tr>\n",
              "      <th>LAX</th>\n",
              "      <td>17875</td>\n",
              "      <td>17873</td>\n",
              "    </tr>\n",
              "    <tr>\n",
              "      <th>SFO</th>\n",
              "      <td>14332</td>\n",
              "      <td>14348</td>\n",
              "    </tr>\n",
              "    <tr>\n",
              "      <th>IAH</th>\n",
              "      <td>14210</td>\n",
              "      <td>14203</td>\n",
              "    </tr>\n",
              "    <tr>\n",
              "      <th>LGA</th>\n",
              "      <td>13850</td>\n",
              "      <td>13850</td>\n",
              "    </tr>\n",
              "    <tr>\n",
              "      <th>MSP</th>\n",
              "      <td>13349</td>\n",
              "      <td>13347</td>\n",
              "    </tr>\n",
              "    <tr>\n",
              "      <th>LAS</th>\n",
              "      <td>13318</td>\n",
              "      <td>13322</td>\n",
              "    </tr>\n",
              "    <tr>\n",
              "      <th>PHX</th>\n",
              "      <td>13126</td>\n",
              "      <td>13128</td>\n",
              "    </tr>\n",
              "    <tr>\n",
              "      <th>DTW</th>\n",
              "      <td>12725</td>\n",
              "      <td>12724</td>\n",
              "    </tr>\n",
              "    <tr>\n",
              "      <th>BOS</th>\n",
              "      <td>12223</td>\n",
              "      <td>12227</td>\n",
              "    </tr>\n",
              "    <tr>\n",
              "      <th>SEA</th>\n",
              "      <td>11872</td>\n",
              "      <td>11877</td>\n",
              "    </tr>\n",
              "  </tbody>\n",
              "</table>\n",
              "</div>"
            ],
            "text/plain": [
              "     Origin  Destination\n",
              "ATL   31525        31521\n",
              "ORD   28257        28250\n",
              "DFW   22802        22795\n",
              "DEN   19807        19807\n",
              "CLT   19655        19654\n",
              "LAX   17875        17873\n",
              "SFO   14332        14348\n",
              "IAH   14210        14203\n",
              "LGA   13850        13850\n",
              "MSP   13349        13347\n",
              "LAS   13318        13322\n",
              "PHX   13126        13128\n",
              "DTW   12725        12724\n",
              "BOS   12223        12227\n",
              "SEA   11872        11877"
            ]
          },
          "execution_count": 12,
          "metadata": {},
          "output_type": "execute_result"
        }
      ],
      "source": [
        "counts.sort_values(by='Origin', ascending=False).head(15)"
      ]
    },
    {
      "cell_type": "markdown",
      "metadata": {
        "id": "_WCTkj_Zm__a"
      },
      "source": [
        "**Given all the information about a flight trip, can you predict if it would be delayed?**"
      ]
    },
    {
      "cell_type": "markdown",
      "metadata": {
        "id": "5Ur0TSckm__a"
      },
      "source": [
        "The **ArrDel15** column is an indicator variable that takes the value *1* when the delay is more than 15 minutes. Otherwise, it takes a value of *0*.\n",
        "\n",
        "You could use this as a target column for the classification problem."
      ]
    },
    {
      "cell_type": "markdown",
      "metadata": {
        "id": "ytjpA7slm__a"
      },
      "source": [
        "Now, assume that you are traveling from San Francisco to Los Angeles on a work trip. You want to better manage your reservations in Los Angeles. Thus, want to have an idea of whether your flight will be delayed, given a set of features. How many features from this dataset would you need to know before your flight?\n",
        "\n",
        "Columns such as `DepDelay`, `ArrDelay`, `CarrierDelay`, `WeatherDelay`, `NASDelay`, `SecurityDelay`, `LateAircraftDelay`, and `DivArrDelay` contain information about a delay. But this delay could have occured at the origin or the destination. If there were a sudden weather delay 10 minutes before landing, this data wouldn't be helpful to managing your Los Angeles reservations.\n",
        "\n",
        "So to simplify the problem statement, consider the following columns to predict an arrival delay:<br>\n",
        "\n",
        "`Year`, `Quarter`, `Month`, `DayofMonth`, `DayOfWeek`, `FlightDate`, `Reporting_Airline`, `Origin`, `OriginState`, `Dest`, `DestState`, `CRSDepTime`, `DepDelayMinutes`, `DepartureDelayGroups`, `Cancelled`, `Diverted`, `Distance`, `DistanceGroup`, `ArrDelay`, `ArrDelayMinutes`, `ArrDel15`, `AirTime`\n",
        "\n",
        "You will also filter the source and destination airports to be:\n",
        "- Top airports: ATL, ORD, DFW, DEN, CLT, LAX, IAH, PHX, SFO\n",
        "- Top five airlines: UA, OO, WN, AA, DL\n",
        "\n",
        "This information should help reduce the size of data across the CSV files that will be combined."
      ]
    },
    {
      "cell_type": "markdown",
      "metadata": {
        "id": "MWuVxenem__a"
      },
      "source": [
        "#### Combine all CSV files\n",
        "\n",
        "First, create an empy DataFrame that you will use to copy your individual DataFrames from each file. Then, for each file in the `csv_files` list:\n",
        "\n",
        "1. Read the CSV file into a dataframe\n",
        "2. Filter the columns based on the `filter_cols` variable\n",
        "\n",
        "```\n",
        "        columns = ['col1', 'col2']\n",
        "        df_filter = df[columns]\n",
        "```\n",
        "\n",
        "3. Keep only the `subset_vals` in each of the `subset_cols`. To check if the `val` is in the DataFrame column, use the `isin` function in pandas ([pandas.DataFram.isin documentation](https://pandas.pydata.org/pandas-docs/stable/reference/api/pandas.DataFrame.isin.html)). Then, choose the rows that include it.\n",
        "\n",
        "```\n",
        "        df_eg[df_eg['col1'].isin('5')]\n",
        "```\n",
        "\n",
        "4. Concatenate the DataFrame with the empty DataFrame"
      ]
    },
    {
      "cell_type": "code",
      "execution_count": 5,
      "metadata": {
        "id": "QuGX_AfXm__b"
      },
      "outputs": [],
      "source": [
        "def combine_csv(csv_files, filter_cols, subset_cols, subset_vals, file_name):\n",
        "\n",
        "    \"\"\"\n",
        "    Combine csv files into one Data Frame\n",
        "    csv_files: list of csv file paths\n",
        "    filter_cols: list of columns to filter\n",
        "    subset_cols: list of columns to subset rows\n",
        "    subset_vals: list of list of values to subset rows\n",
        "    \"\"\"\n",
        "\n",
        "    df = pd.DataFrame()\n",
        "\n",
        "    for file in csv_files:\n",
        "        df_temp = pd.read_csv(file)\n",
        "        df_temp = df_temp[filter_cols]\n",
        "        for col, val in zip(subset_cols,subset_vals):\n",
        "            df_temp = df_temp[df_temp[col].isin(val)]\n",
        "\n",
        "        df = pd.concat([df, df_temp], axis=0)\n",
        "\n",
        "    df.to_csv(file_name, index=False)\n",
        "    print(f'Combined csv stored at {file_name}')"
      ]
    },
    {
      "cell_type": "code",
      "execution_count": 6,
      "metadata": {
        "id": "3Rk8hA4Dm__b"
      },
      "outputs": [],
      "source": [
        "#cols is the list of columns to predict Arrival Delay\n",
        "cols = ['Year','Quarter','Month','DayofMonth','DayOfWeek','FlightDate',\n",
        "        'Reporting_Airline','Origin','OriginState','Dest','DestState',\n",
        "        'CRSDepTime','Cancelled','Diverted','Distance','DistanceGroup',\n",
        "        'ArrDelay','ArrDelayMinutes','ArrDel15','AirTime']\n",
        "\n",
        "subset_cols = ['Origin', 'Dest', 'Reporting_Airline']\n",
        "\n",
        "# subset_vals is a list collection of the top origin and destination airports and top 5 airlines\n",
        "subset_vals = [['ATL', 'ORD', 'DFW', 'DEN', 'CLT', 'LAX', 'IAH', 'PHX', 'SFO'],\n",
        "               ['ATL', 'ORD', 'DFW', 'DEN', 'CLT', 'LAX', 'IAH', 'PHX', 'SFO'],\n",
        "               ['UA', 'OO', 'WN', 'AA', 'DL']]"
      ]
    },
    {
      "cell_type": "markdown",
      "metadata": {
        "id": "m60Wg39Cm__b"
      },
      "source": [
        "Use the previous function to merge all the different files into a single file that you can read easily.\n",
        "\n",
        "**Note**: This process will take 5-7 minutes to complete."
      ]
    },
    {
      "cell_type": "code",
      "execution_count": 7,
      "metadata": {
        "id": "Cz3rDc9am__g",
        "outputId": "8597a8e7-b93c-46f2-c929-8e68ab21fd60",
        "colab": {
          "base_uri": "https://localhost:8080/",
          "height": 193
        }
      },
      "outputs": [
        {
          "output_type": "error",
          "ename": "NameError",
          "evalue": "name 'base_path' is not defined",
          "traceback": [
            "\u001b[0;31m---------------------------------------------------------------------------\u001b[0m",
            "\u001b[0;31mNameError\u001b[0m                                 Traceback (most recent call last)",
            "\u001b[0;32m<ipython-input-7-d2da45a97a64>\u001b[0m in \u001b[0;36m<cell line: 0>\u001b[0;34m()\u001b[0m\n\u001b[1;32m      1\u001b[0m \u001b[0mstart\u001b[0m \u001b[0;34m=\u001b[0m \u001b[0mtime\u001b[0m\u001b[0;34m.\u001b[0m\u001b[0mtime\u001b[0m\u001b[0;34m(\u001b[0m\u001b[0;34m)\u001b[0m\u001b[0;34m\u001b[0m\u001b[0;34m\u001b[0m\u001b[0m\n\u001b[0;32m----> 2\u001b[0;31m \u001b[0mcombined_csv_filename\u001b[0m \u001b[0;34m=\u001b[0m \u001b[0;34mf\"{base_path}combined_files.csv\"\u001b[0m\u001b[0;34m\u001b[0m\u001b[0;34m\u001b[0m\u001b[0m\n\u001b[0m\u001b[1;32m      3\u001b[0m \u001b[0mcombine_csv\u001b[0m\u001b[0;34m(\u001b[0m\u001b[0mcsv_files\u001b[0m\u001b[0;34m,\u001b[0m \u001b[0mcols\u001b[0m\u001b[0;34m,\u001b[0m \u001b[0msubset_cols\u001b[0m\u001b[0;34m,\u001b[0m \u001b[0msubset_vals\u001b[0m\u001b[0;34m,\u001b[0m \u001b[0mcombined_csv_filename\u001b[0m\u001b[0;34m)\u001b[0m\u001b[0;34m\u001b[0m\u001b[0;34m\u001b[0m\u001b[0m\n\u001b[1;32m      4\u001b[0m \u001b[0mprint\u001b[0m\u001b[0;34m(\u001b[0m\u001b[0;34mf'CSVs merged in {round((time.time() - start)/60,2)} minutes'\u001b[0m\u001b[0;34m)\u001b[0m\u001b[0;34m\u001b[0m\u001b[0;34m\u001b[0m\u001b[0m\n",
            "\u001b[0;31mNameError\u001b[0m: name 'base_path' is not defined"
          ]
        }
      ],
      "source": [
        "start = time.time()\n",
        "combined_csv_filename = f\"{base_path}combined_files.csv\"\n",
        "combine_csv(csv_files, cols, subset_cols, subset_vals, combined_csv_filename)\n",
        "print(f'CSVs merged in {round((time.time() - start)/60,2)} minutes')"
      ]
    },
    {
      "cell_type": "markdown",
      "metadata": {
        "id": "mlmKtHwJm__g"
      },
      "source": [
        "#### Load the dataset\n",
        "\n",
        "Load the combined dataset."
      ]
    },
    {
      "cell_type": "code",
      "execution_count": null,
      "metadata": {
        "id": "OvC0rGlvm__g"
      },
      "outputs": [],
      "source": [
        "data = pd.read_csv('df2.csv')"
      ]
    },
    {
      "cell_type": "code",
      "execution_count": null,
      "metadata": {
        "id": "PvU6DeJWm__g"
      },
      "outputs": [],
      "source": [
        "data = data.drop(columns = {'Unnamed: 0'})"
      ]
    },
    {
      "cell_type": "markdown",
      "metadata": {
        "id": "JMH3uK6km__g"
      },
      "source": [
        "Print the first five records."
      ]
    },
    {
      "cell_type": "code",
      "execution_count": null,
      "metadata": {
        "id": "eYvTngQhm__g",
        "outputId": "c3211aef-ece6-47ff-bfe2-3024c945bc8c"
      },
      "outputs": [
        {
          "data": {
            "text/html": [
              "<div>\n",
              "<style scoped>\n",
              "    .dataframe tbody tr th:only-of-type {\n",
              "        vertical-align: middle;\n",
              "    }\n",
              "\n",
              "    .dataframe tbody tr th {\n",
              "        vertical-align: top;\n",
              "    }\n",
              "\n",
              "    .dataframe thead th {\n",
              "        text-align: right;\n",
              "    }\n",
              "</style>\n",
              "<table border=\"1\" class=\"dataframe\">\n",
              "  <thead>\n",
              "    <tr style=\"text-align: right;\">\n",
              "      <th></th>\n",
              "      <th>Year</th>\n",
              "      <th>Quarter</th>\n",
              "      <th>Month</th>\n",
              "      <th>DayofMonth</th>\n",
              "      <th>DayOfWeek</th>\n",
              "      <th>FlightDate</th>\n",
              "      <th>Reporting_Airline</th>\n",
              "      <th>Origin</th>\n",
              "      <th>OriginState</th>\n",
              "      <th>Dest</th>\n",
              "      <th>DestState</th>\n",
              "      <th>CRSDepTime</th>\n",
              "      <th>Cancelled</th>\n",
              "      <th>Diverted</th>\n",
              "      <th>Distance</th>\n",
              "      <th>DistanceGroup</th>\n",
              "      <th>ArrDelay</th>\n",
              "      <th>ArrDelayMinutes</th>\n",
              "      <th>ArrDel15</th>\n",
              "      <th>AirTime</th>\n",
              "    </tr>\n",
              "  </thead>\n",
              "  <tbody>\n",
              "    <tr>\n",
              "      <th>0</th>\n",
              "      <td>2017</td>\n",
              "      <td>3</td>\n",
              "      <td>7</td>\n",
              "      <td>5</td>\n",
              "      <td>3</td>\n",
              "      <td>2017-07-05</td>\n",
              "      <td>OO</td>\n",
              "      <td>SFO</td>\n",
              "      <td>CA</td>\n",
              "      <td>LAX</td>\n",
              "      <td>CA</td>\n",
              "      <td>1145</td>\n",
              "      <td>0.0</td>\n",
              "      <td>0.0</td>\n",
              "      <td>337.0</td>\n",
              "      <td>2</td>\n",
              "      <td>52.0</td>\n",
              "      <td>52.0</td>\n",
              "      <td>1.0</td>\n",
              "      <td>59.0</td>\n",
              "    </tr>\n",
              "    <tr>\n",
              "      <th>1</th>\n",
              "      <td>2017</td>\n",
              "      <td>3</td>\n",
              "      <td>7</td>\n",
              "      <td>5</td>\n",
              "      <td>3</td>\n",
              "      <td>2017-07-05</td>\n",
              "      <td>OO</td>\n",
              "      <td>DFW</td>\n",
              "      <td>TX</td>\n",
              "      <td>LAX</td>\n",
              "      <td>CA</td>\n",
              "      <td>1225</td>\n",
              "      <td>0.0</td>\n",
              "      <td>0.0</td>\n",
              "      <td>1235.0</td>\n",
              "      <td>5</td>\n",
              "      <td>524.0</td>\n",
              "      <td>524.0</td>\n",
              "      <td>1.0</td>\n",
              "      <td>156.0</td>\n",
              "    </tr>\n",
              "    <tr>\n",
              "      <th>2</th>\n",
              "      <td>2017</td>\n",
              "      <td>3</td>\n",
              "      <td>7</td>\n",
              "      <td>5</td>\n",
              "      <td>3</td>\n",
              "      <td>2017-07-05</td>\n",
              "      <td>OO</td>\n",
              "      <td>LAX</td>\n",
              "      <td>CA</td>\n",
              "      <td>SFO</td>\n",
              "      <td>CA</td>\n",
              "      <td>800</td>\n",
              "      <td>0.0</td>\n",
              "      <td>0.0</td>\n",
              "      <td>337.0</td>\n",
              "      <td>2</td>\n",
              "      <td>59.0</td>\n",
              "      <td>59.0</td>\n",
              "      <td>1.0</td>\n",
              "      <td>51.0</td>\n",
              "    </tr>\n",
              "    <tr>\n",
              "      <th>3</th>\n",
              "      <td>2017</td>\n",
              "      <td>3</td>\n",
              "      <td>7</td>\n",
              "      <td>5</td>\n",
              "      <td>3</td>\n",
              "      <td>2017-07-05</td>\n",
              "      <td>OO</td>\n",
              "      <td>SFO</td>\n",
              "      <td>CA</td>\n",
              "      <td>LAX</td>\n",
              "      <td>CA</td>\n",
              "      <td>1845</td>\n",
              "      <td>0.0</td>\n",
              "      <td>0.0</td>\n",
              "      <td>337.0</td>\n",
              "      <td>2</td>\n",
              "      <td>-9.0</td>\n",
              "      <td>0.0</td>\n",
              "      <td>0.0</td>\n",
              "      <td>56.0</td>\n",
              "    </tr>\n",
              "    <tr>\n",
              "      <th>4</th>\n",
              "      <td>2017</td>\n",
              "      <td>3</td>\n",
              "      <td>7</td>\n",
              "      <td>5</td>\n",
              "      <td>3</td>\n",
              "      <td>2017-07-05</td>\n",
              "      <td>OO</td>\n",
              "      <td>SFO</td>\n",
              "      <td>CA</td>\n",
              "      <td>LAX</td>\n",
              "      <td>CA</td>\n",
              "      <td>600</td>\n",
              "      <td>0.0</td>\n",
              "      <td>0.0</td>\n",
              "      <td>337.0</td>\n",
              "      <td>2</td>\n",
              "      <td>-3.0</td>\n",
              "      <td>0.0</td>\n",
              "      <td>0.0</td>\n",
              "      <td>59.0</td>\n",
              "    </tr>\n",
              "  </tbody>\n",
              "</table>\n",
              "</div>"
            ],
            "text/plain": [
              "   Year  Quarter  Month  DayofMonth  DayOfWeek  FlightDate Reporting_Airline  \\\n",
              "0  2017        3      7           5          3  2017-07-05                OO   \n",
              "1  2017        3      7           5          3  2017-07-05                OO   \n",
              "2  2017        3      7           5          3  2017-07-05                OO   \n",
              "3  2017        3      7           5          3  2017-07-05                OO   \n",
              "4  2017        3      7           5          3  2017-07-05                OO   \n",
              "\n",
              "  Origin OriginState Dest DestState  CRSDepTime  Cancelled  Diverted  \\\n",
              "0    SFO          CA  LAX        CA        1145        0.0       0.0   \n",
              "1    DFW          TX  LAX        CA        1225        0.0       0.0   \n",
              "2    LAX          CA  SFO        CA         800        0.0       0.0   \n",
              "3    SFO          CA  LAX        CA        1845        0.0       0.0   \n",
              "4    SFO          CA  LAX        CA         600        0.0       0.0   \n",
              "\n",
              "   Distance  DistanceGroup  ArrDelay  ArrDelayMinutes  ArrDel15  AirTime  \n",
              "0     337.0              2      52.0             52.0       1.0     59.0  \n",
              "1    1235.0              5     524.0            524.0       1.0    156.0  \n",
              "2     337.0              2      59.0             59.0       1.0     51.0  \n",
              "3     337.0              2      -9.0              0.0       0.0     56.0  \n",
              "4     337.0              2      -3.0              0.0       0.0     59.0  "
            ]
          },
          "execution_count": 62,
          "metadata": {},
          "output_type": "execute_result"
        }
      ],
      "source": [
        "data.head()"
      ]
    },
    {
      "cell_type": "code",
      "execution_count": null,
      "metadata": {
        "id": "LzO0yllnm__g",
        "outputId": "98be55a6-e9cf-4085-8425-9efc556e4216"
      },
      "outputs": [
        {
          "data": {
            "text/plain": [
              "Index(['Year', 'Quarter', 'Month', 'DayofMonth', 'DayOfWeek', 'FlightDate',\n",
              "       'Reporting_Airline', 'Origin', 'OriginState', 'Dest', 'DestState',\n",
              "       'CRSDepTime', 'Cancelled', 'Diverted', 'Distance', 'DistanceGroup',\n",
              "       'ArrDelay', 'ArrDelayMinutes', 'ArrDel15', 'AirTime'],\n",
              "      dtype='object')"
            ]
          },
          "execution_count": 63,
          "metadata": {},
          "output_type": "execute_result"
        }
      ],
      "source": [
        "data.columns"
      ]
    },
    {
      "cell_type": "markdown",
      "metadata": {
        "id": "NZrNAvdGm__g"
      },
      "source": [
        "Here are some more questions to help you learn more about your dataset.\n",
        "\n",
        "**Questions**   \n",
        "\n",
        "1. How many rows and columns does the dataset have?   \n",
        "2. How many years are included in the dataset?   \n",
        "3. What is the date range for the dataset?   \n",
        "4. Which airlines are included in the dataset?   \n",
        "5. Which origin and destination airports are covered?"
      ]
    },
    {
      "cell_type": "code",
      "execution_count": null,
      "metadata": {
        "id": "mjayIQ_8m__g",
        "outputId": "f06dfe80-23a1-47e4-8043-ca05343cb451"
      },
      "outputs": [
        {
          "name": "stdout",
          "output_type": "stream",
          "text": [
            "The #rows and #columns are  1658130  and  20\n",
            "The years in this dataset are:  [2017, 2015, 2014, 2018, 2016]\n",
            "The months covered in this dataset are:  [1, 2, 3, 4, 5, 6, 7, 8, 9, 10, 11, 12]\n",
            "The date range for data is : 2014-01-01  to  2018-12-31\n",
            "The airlines covered in this dataset are:  ['OO', 'AA', 'DL', 'WN', 'UA']\n",
            "The Origin airports covered are:  ['SFO', 'DFW', 'LAX', 'DEN', 'PHX', 'ATL', 'CLT', 'IAH', 'ORD']\n",
            "The Destination airports covered are:  ['LAX', 'SFO', 'DFW', 'PHX', 'ORD', 'IAH', 'ATL', 'CLT', 'DEN']\n"
          ]
        }
      ],
      "source": [
        "print(\"The #rows and #columns are \", data.shape[0], \" and \", data.shape[1])\n",
        "print(\"The years in this dataset are: \", list(data.Year.unique()))\n",
        "print(\"The months covered in this dataset are: \", sorted(list(data.Month.unique())))\n",
        "print(\"The date range for data is :\" , min(data.FlightDate), \" to \", max(data.FlightDate))\n",
        "print(\"The airlines covered in this dataset are: \", list(data.Reporting_Airline.unique()))\n",
        "print(\"The Origin airports covered are: \", list(data.Origin.unique()))\n",
        "print(\"The Destination airports covered are: \", list(data.Dest.unique()))"
      ]
    },
    {
      "cell_type": "markdown",
      "metadata": {
        "id": "aRsFE_QWm__g"
      },
      "source": [
        "Define your target column: **is_delay** (*1* means that the arrival time delayed more than 15 minutes, and *0* means all other cases). To rename the column from **ArrDel15** to *is_delay*, use the `rename` method .\n",
        "\n",
        "**Hint**: You can use the `rename` function in pandas ([pandas.DataFrame.rename documentation](https://pandas.pydata.org/pandas-docs/stable/reference/api/pandas.DataFrame.rename.html)).\n",
        "\n",
        "For example:\n",
        "```\n",
        "data.rename(columns={'col1':'column1'}, inplace=True)\n",
        "```"
      ]
    },
    {
      "cell_type": "code",
      "execution_count": null,
      "metadata": {
        "id": "nPBqt4TIm__g"
      },
      "outputs": [],
      "source": [
        "data.rename(columns={'ArrDel15': 'is_delay'}, inplace=True)"
      ]
    },
    {
      "cell_type": "markdown",
      "metadata": {
        "id": "EgM5uAhqm__g"
      },
      "source": [
        "Look for nulls across columns. You can use the `isnull()` function ([pandas.isnull documentation](https://pandas.pydata.org/pandas-docs/version/0.17.0/generated/pandas.isnull.html)).\n",
        "\n",
        "**Hint**: `isnull()` detects whether the particular value is null or not. It returns a boolean (*True* or *False*) in its place. To sum the number of columns, use the `sum(axis=0)` function (for example, `df.isnull().sum(axis=0)`)."
      ]
    },
    {
      "cell_type": "code",
      "execution_count": null,
      "metadata": {
        "id": "KBNoS8SDm__g",
        "outputId": "eb701638-39e9-4668-cda5-1856c490015e"
      },
      "outputs": [
        {
          "data": {
            "text/plain": [
              "Year                     0\n",
              "Quarter                  0\n",
              "Month                    0\n",
              "DayofMonth               0\n",
              "DayOfWeek                0\n",
              "FlightDate               0\n",
              "Reporting_Airline        0\n",
              "Origin                   0\n",
              "OriginState              0\n",
              "Dest                     0\n",
              "DestState                0\n",
              "CRSDepTime               0\n",
              "Cancelled                0\n",
              "Diverted                 0\n",
              "Distance                 0\n",
              "DistanceGroup            0\n",
              "ArrDelay             22540\n",
              "ArrDelayMinutes      22540\n",
              "is_delay             22540\n",
              "AirTime              22540\n",
              "dtype: int64"
            ]
          },
          "execution_count": 66,
          "metadata": {},
          "output_type": "execute_result"
        }
      ],
      "source": [
        "data.isnull().sum(axis=0)"
      ]
    },
    {
      "cell_type": "markdown",
      "metadata": {
        "id": "bTpWjb0Km__h"
      },
      "source": [
        "The arrival delay details and airtime are missing for 22,540 out of 1,658,130 rows, which is 1.3 percent. You can either remove or impute these rows. The documentation doesn't mention any information about missing rows.\n"
      ]
    },
    {
      "cell_type": "code",
      "execution_count": null,
      "metadata": {
        "id": "UmRJz6Qim__h",
        "outputId": "90d9a351-0e78-4fed-9ee1-aec966638b79"
      },
      "outputs": [
        {
          "data": {
            "text/plain": [
              "Year                 0\n",
              "Quarter              0\n",
              "Month                0\n",
              "DayofMonth           0\n",
              "DayOfWeek            0\n",
              "FlightDate           0\n",
              "Reporting_Airline    0\n",
              "Origin               0\n",
              "OriginState          0\n",
              "Dest                 0\n",
              "DestState            0\n",
              "CRSDepTime           0\n",
              "Cancelled            0\n",
              "Diverted             0\n",
              "Distance             0\n",
              "DistanceGroup        0\n",
              "ArrDelay             0\n",
              "ArrDelayMinutes      0\n",
              "is_delay             0\n",
              "AirTime              0\n",
              "dtype: int64"
            ]
          },
          "execution_count": 67,
          "metadata": {},
          "output_type": "execute_result"
        }
      ],
      "source": [
        "### Remove null columns\n",
        "data = data[~data.is_delay.isnull()]\n",
        "data.isnull().sum(axis = 0)"
      ]
    },
    {
      "cell_type": "markdown",
      "metadata": {
        "id": "VNF1qARsm__h"
      },
      "source": [
        "Get the hour of the day in 24-hour-time format from CRSDepTime."
      ]
    },
    {
      "cell_type": "code",
      "execution_count": null,
      "metadata": {
        "id": "oNBFhnDBm__h"
      },
      "outputs": [],
      "source": [
        "data['DepHourofDay'] = (data['CRSDepTime']//100)"
      ]
    },
    {
      "cell_type": "markdown",
      "metadata": {
        "id": "KZ6jPc96m__h"
      },
      "source": [
        "## **The ML problem statement**\n",
        "- Given a set of features, can you predict if a flight is going to be delayed more than 15 minutes?\n",
        "- Because the target variable takes only a value of *0* or *1*, you could use a classification algorithm.\n",
        "\n",
        "Before you start modeling, it's a good practice to look at feature distribution, correlations, and others.\n",
        "- This will give you an idea of any non-linearity or patterns in the data\n",
        "    - Linear models: Add power, exponential, or interaction features\n",
        "    - Try a non-linear model\n",
        "- Data imbalance\n",
        "    - Choose metrics that won't give biased model performance (accuracy versus the area under the curve, or AUC)\n",
        "    - Use weighted or custom loss functions\n",
        "- Missing data\n",
        "    - Do imputation based on simple statistics -- mean, median, mode (numerical variables), frequent class (categorical variables)\n",
        "    - Clustering-based imputation (k-nearest neighbors, or KNNs, to predict column value)\n",
        "    - Drop column"
      ]
    },
    {
      "cell_type": "markdown",
      "metadata": {
        "id": "EkN4O0iHm__h"
      },
      "source": [
        "### Data exploration\n",
        "\n",
        "Check the classes *delay* versus *no delay*.\n"
      ]
    },
    {
      "cell_type": "code",
      "execution_count": null,
      "metadata": {
        "id": "RyoY8qOWm__h",
        "outputId": "fa78d5b5-e81b-4342-caf4-82bd27775b40"
      },
      "outputs": [
        {
          "data": {
            "image/png": "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",
            "text/plain": [
              "<Figure size 640x480 with 1 Axes>"
            ]
          },
          "metadata": {},
          "output_type": "display_data"
        }
      ],
      "source": [
        "(data.groupby('is_delay').size()/len(data) ).plot(kind='bar')# Enter your code here\n",
        "plt.ylabel('Frequency')\n",
        "plt.title('Distribution of classes')\n",
        "plt.show()"
      ]
    },
    {
      "cell_type": "markdown",
      "metadata": {
        "id": "Vmbv3CjDm__h"
      },
      "source": [
        "**Question**: What can you deduce from the bar plot about the ratio of *delay* versus *no delay*?"
      ]
    },
    {
      "cell_type": "markdown",
      "metadata": {
        "id": "7rAIRtdpm__h"
      },
      "source": [
        "The bar plot shows a highly imbalanced distribution of the `is_delay` classes. The majority of the flights are labeled as 0 (no delay), which make up approximately 70-80% of the dataset, while flights labeled as 1 (delayed) are significantly fewer, accounting for only about 20-30%. This imbalance indicates that the model may need techniques such as class balancing or threshold adjustment to properly handle the disparity between delayed and non-delayed flights."
      ]
    },
    {
      "cell_type": "markdown",
      "metadata": {
        "id": "tvLh62mwm__h"
      },
      "source": [
        "Run the following two cells and answer the questions."
      ]
    },
    {
      "cell_type": "code",
      "execution_count": null,
      "metadata": {
        "id": "mQcT4hwXm__h",
        "outputId": "e7adbf10-5d3f-43d3-f6b9-d9feeb6cf3a6"
      },
      "outputs": [
        {
          "data": {
            "image/png": "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",
            "text/plain": [
              "<Figure size 2000x2000 with 6 Axes>"
            ]
          },
          "metadata": {},
          "output_type": "display_data"
        }
      ],
      "source": [
        "viz_columns = ['Month', 'DepHourofDay', 'DayOfWeek', 'Reporting_Airline', 'Origin', 'Dest']\n",
        "fig, axes = plt.subplots(3, 2, figsize=(20,20), squeeze=False)\n",
        "# fig.autofmt_xdate(rotation=90)\n",
        "\n",
        "for idx, column in enumerate(viz_columns):\n",
        "    ax = axes[idx//2, idx%2]\n",
        "    temp = data.groupby(column)['is_delay'].value_counts(normalize=True).rename('percentage').\\\n",
        "    mul(100).reset_index().sort_values(column)\n",
        "    sns.barplot(x=column, y=\"percentage\", hue=\"is_delay\", data=temp, ax=ax)\n",
        "    plt.ylabel('% delay/no-delay')\n",
        "\n",
        "\n",
        "plt.show()"
      ]
    },
    {
      "cell_type": "code",
      "execution_count": null,
      "metadata": {
        "id": "nVtba5Dnm__h",
        "outputId": "505afaf8-c590-49cb-9ed1-5d238f926c34"
      },
      "outputs": [
        {
          "data": {
            "image/png": "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",
            "text/plain": [
              "<Figure size 500x500 with 1 Axes>"
            ]
          },
          "metadata": {},
          "output_type": "display_data"
        }
      ],
      "source": [
        "sns.lmplot( x=\"is_delay\", y=\"Distance\", data=data, fit_reg=False, hue='is_delay', legend=False)\n",
        "plt.legend(loc='center')\n",
        "plt.xlabel('is_delay')\n",
        "plt.ylabel('Distance')\n",
        "plt.show()"
      ]
    },
    {
      "cell_type": "markdown",
      "metadata": {
        "id": "-f2ABcE5m__h"
      },
      "source": [
        "**Questions**\n",
        "\n",
        "Using the data from the previous charts, answer these questions:\n",
        "\n",
        "- Which months have the most delays?\n",
        "- What time of the day has the most delays?\n",
        "- What day of the week has the most delays?\n",
        "- Which airline has the most delays?\n",
        "- Which origin and destination airports have the most delays?\n",
        "- Is flight distance a factor in the delays?"
      ]
    },
    {
      "cell_type": "markdown",
      "metadata": {
        "id": "0cl4D-mnm__h"
      },
      "source": [
        "Which months have the most delays?\n",
        "The months with the most delays seem to be January and December, as they have higher percentages of delayed flights (represented by the darker brown bars for is_delay = 1).\n",
        "\n",
        "\n",
        "What time of the day has the most delays?\n",
        "The time of the day with the most delays is around 18:00 to 23:00 (6 PM to 11 PM), as this period shows a higher frequency of delayed flights, with a noticeable increase in delays during later hours.\n",
        "\n",
        "\n",
        "What day of the week has the most delays?\n",
        "The weekend (Saturday and Sunday) appears to have a slightly higher frequency of delays compared to weekdays, as indicated by the bar plots for DayOfWeek.\n",
        "\n",
        "\n",
        "Which airline has the most delays?\n",
        "Southwest Airlines (WN) seems to have the highest proportion of delays compared to the other airlines, based on the bar plot showing the Reporting_Airline column.\n",
        "\n",
        "\n",
        "Which origin and destination airports have the most delays?\n",
        "Both Atlanta (ATL) and Dallas/Fort Worth (DFW) are likely to have more delays, as shown by the origin and destination bar plots, with these airports having a higher percentage of delayed flights.\n",
        "\n",
        "\n",
        "Is flight distance a factor in the delays?\n",
        "Yes, flight distance seems to be a factor in delays. The scatter plot shows that longer flights (greater distances) are more likely to have delays (with a higher concentration of orange dots, which indicate delays, on the right side of the distance scale)."
      ]
    },
    {
      "cell_type": "markdown",
      "metadata": {
        "id": "sPLIOoH1m__h"
      },
      "source": [
        "### Features\n",
        "\n",
        "Look at all the columns and what their specific types are."
      ]
    },
    {
      "cell_type": "code",
      "execution_count": null,
      "metadata": {
        "id": "rd5a7mnAm__i",
        "outputId": "7e6c4778-7e69-4ab4-dcbc-ee780f7e1a71"
      },
      "outputs": [
        {
          "data": {
            "text/plain": [
              "Index(['Year', 'Quarter', 'Month', 'DayofMonth', 'DayOfWeek', 'FlightDate',\n",
              "       'Reporting_Airline', 'Origin', 'OriginState', 'Dest', 'DestState',\n",
              "       'CRSDepTime', 'Cancelled', 'Diverted', 'Distance', 'DistanceGroup',\n",
              "       'ArrDelay', 'ArrDelayMinutes', 'is_delay', 'AirTime', 'DepHourofDay'],\n",
              "      dtype='object')"
            ]
          },
          "execution_count": 72,
          "metadata": {},
          "output_type": "execute_result"
        }
      ],
      "source": [
        "data.columns"
      ]
    },
    {
      "cell_type": "code",
      "execution_count": null,
      "metadata": {
        "id": "1P_p18D5m__i",
        "outputId": "dfe86f01-7619-4103-db5c-04ebc64bc08b"
      },
      "outputs": [
        {
          "data": {
            "text/plain": [
              "Year                   int64\n",
              "Quarter                int64\n",
              "Month                  int64\n",
              "DayofMonth             int64\n",
              "DayOfWeek              int64\n",
              "FlightDate            object\n",
              "Reporting_Airline     object\n",
              "Origin                object\n",
              "OriginState           object\n",
              "Dest                  object\n",
              "DestState             object\n",
              "CRSDepTime             int64\n",
              "Cancelled            float64\n",
              "Diverted             float64\n",
              "Distance             float64\n",
              "DistanceGroup          int64\n",
              "ArrDelay             float64\n",
              "ArrDelayMinutes      float64\n",
              "is_delay             float64\n",
              "AirTime              float64\n",
              "DepHourofDay           int64\n",
              "dtype: object"
            ]
          },
          "execution_count": 73,
          "metadata": {},
          "output_type": "execute_result"
        }
      ],
      "source": [
        "data.dtypes"
      ]
    },
    {
      "cell_type": "markdown",
      "metadata": {
        "id": "Fig7kgB7m__i"
      },
      "source": [
        "Filtering the required columns:\n",
        "- *Date* is redundant, because you have *Year*, *Quarter*, *Month*, *DayofMonth*, and *DayOfWeek* to describe the date.\n",
        "- Use *Origin* and *Dest* codes instead of *OriginState* and *DestState*.\n",
        "- Because you are only classifying whether the flight is delayed or not, you don't need *TotalDelayMinutes*, *DepDelayMinutes*, and *ArrDelayMinutes*.\n",
        "\n",
        "Treat *DepHourofDay* as a categorical variable because it doesn't have any quantitative relation with the target.\n",
        "- If you needed to do a one-hot encoding of this variable, it would result in 23 more columns.\n",
        "- Other alternatives to handling categorical variables include hash encoding, regularized mean encoding, and bucketizing the values, among others.\n",
        "- In this case, you only need to split into buckets.\n",
        "\n",
        "To change a column type to category, use the `astype` function ([pandas.DataFrame.astype documentation](https://pandas.pydata.org/pandas-docs/stable/reference/api/pandas.DataFrame.astype.html))."
      ]
    },
    {
      "cell_type": "code",
      "execution_count": null,
      "metadata": {
        "id": "OUqjGCjnm__i"
      },
      "outputs": [],
      "source": [
        "data_orig = data.copy()\n",
        "data = data[[ 'is_delay', 'Quarter', 'Month', 'DayofMonth', 'DayOfWeek',\n",
        "       'Reporting_Airline', 'Origin', 'Dest','Distance','DepHourofDay']]\n",
        "categorical_columns  = ['Quarter', 'Month', 'DayofMonth', 'DayOfWeek',\n",
        "       'Reporting_Airline', 'Origin', 'Dest', 'DepHourofDay']\n",
        "for c in categorical_columns:\n",
        "    data[c] = data[c].astype('category')"
      ]
    },
    {
      "cell_type": "markdown",
      "metadata": {
        "id": "nQQUjiJdm__i"
      },
      "source": [
        "To use one-hot encoding, use the `get_dummies` function in pandas for the categorical columns that you selected. Then, you can concatenate those generated features to your original dataset by using the `concat` function in pandas. For encoding categorical variables, you can also use *dummy encoding* by using a keyword `drop_first=True`. For more information about dummy encoding, see [Dummy variable (statistics)](https://en.wikiversity.org/wiki/Dummy_variable_(statistics)).\n",
        "\n",
        "For example:\n",
        "```\n",
        "pd.get_dummies(df[['column1','columns2']], drop_first=True)\n",
        "```"
      ]
    },
    {
      "cell_type": "code",
      "execution_count": null,
      "metadata": {
        "id": "Sz5sr6qKm__i"
      },
      "outputs": [],
      "source": [
        "data_dummies = pd.get_dummies(data[categorical_columns], drop_first=True)\n",
        "data_dummies = data_dummies.replace({True: 1, False: 0})\n",
        "data = pd.concat([data[['is_delay', 'Distance']], data_dummies], axis=1)\n",
        "#data.drop(categorical_columns,axis=1, inplace=True)"
      ]
    },
    {
      "cell_type": "markdown",
      "metadata": {
        "id": "mo-DTgLmm__i"
      },
      "source": [
        "Check the length of the dataset and the new columns.\n",
        "\n",
        "**Hint**: Use the `shape` and `columns` properties."
      ]
    },
    {
      "cell_type": "code",
      "execution_count": null,
      "metadata": {
        "id": "kGxSJ5Wnm__i",
        "outputId": "db37eed2-22f2-4c4d-d8d4-f108d3a9087e"
      },
      "outputs": [
        {
          "data": {
            "text/plain": [
              "(1635590, 94)"
            ]
          },
          "execution_count": 76,
          "metadata": {},
          "output_type": "execute_result"
        }
      ],
      "source": [
        "data.shape"
      ]
    },
    {
      "cell_type": "code",
      "execution_count": null,
      "metadata": {
        "id": "LluBo2hZm__i",
        "outputId": "32ad8500-5101-4460-ac22-a37fe26b9c55"
      },
      "outputs": [
        {
          "data": {
            "text/plain": [
              "Index(['is_delay', 'Distance', 'Quarter_2', 'Quarter_3', 'Quarter_4',\n",
              "       'Month_2', 'Month_3', 'Month_4', 'Month_5', 'Month_6', 'Month_7',\n",
              "       'Month_8', 'Month_9', 'Month_10', 'Month_11', 'Month_12',\n",
              "       'DayofMonth_2', 'DayofMonth_3', 'DayofMonth_4', 'DayofMonth_5',\n",
              "       'DayofMonth_6', 'DayofMonth_7', 'DayofMonth_8', 'DayofMonth_9',\n",
              "       'DayofMonth_10', 'DayofMonth_11', 'DayofMonth_12', 'DayofMonth_13',\n",
              "       'DayofMonth_14', 'DayofMonth_15', 'DayofMonth_16', 'DayofMonth_17',\n",
              "       'DayofMonth_18', 'DayofMonth_19', 'DayofMonth_20', 'DayofMonth_21',\n",
              "       'DayofMonth_22', 'DayofMonth_23', 'DayofMonth_24', 'DayofMonth_25',\n",
              "       'DayofMonth_26', 'DayofMonth_27', 'DayofMonth_28', 'DayofMonth_29',\n",
              "       'DayofMonth_30', 'DayofMonth_31', 'DayOfWeek_2', 'DayOfWeek_3',\n",
              "       'DayOfWeek_4', 'DayOfWeek_5', 'DayOfWeek_6', 'DayOfWeek_7',\n",
              "       'Reporting_Airline_DL', 'Reporting_Airline_OO', 'Reporting_Airline_UA',\n",
              "       'Reporting_Airline_WN', 'Origin_CLT', 'Origin_DEN', 'Origin_DFW',\n",
              "       'Origin_IAH', 'Origin_LAX', 'Origin_ORD', 'Origin_PHX', 'Origin_SFO',\n",
              "       'Dest_CLT', 'Dest_DEN', 'Dest_DFW', 'Dest_IAH', 'Dest_LAX', 'Dest_ORD',\n",
              "       'Dest_PHX', 'Dest_SFO', 'DepHourofDay_1', 'DepHourofDay_2',\n",
              "       'DepHourofDay_4', 'DepHourofDay_5', 'DepHourofDay_6', 'DepHourofDay_7',\n",
              "       'DepHourofDay_8', 'DepHourofDay_9', 'DepHourofDay_10',\n",
              "       'DepHourofDay_11', 'DepHourofDay_12', 'DepHourofDay_13',\n",
              "       'DepHourofDay_14', 'DepHourofDay_15', 'DepHourofDay_16',\n",
              "       'DepHourofDay_17', 'DepHourofDay_18', 'DepHourofDay_19',\n",
              "       'DepHourofDay_20', 'DepHourofDay_21', 'DepHourofDay_22',\n",
              "       'DepHourofDay_23'],\n",
              "      dtype='object')"
            ]
          },
          "execution_count": 77,
          "metadata": {},
          "output_type": "execute_result"
        }
      ],
      "source": [
        "data.columns"
      ]
    },
    {
      "cell_type": "markdown",
      "metadata": {
        "id": "8UKi--qDm__i"
      },
      "source": [
        "You are now ready to train the model. Before you split the data, rename the **is_delay** column to *target*.\n",
        "\n",
        "**Hint**: You can use the `rename` function in pandas ([pandas.DataFrame.rename documentation](https://pandas.pydata.org/pandas-docs/stable/reference/api/pandas.DataFrame.rename.html))."
      ]
    },
    {
      "cell_type": "code",
      "execution_count": null,
      "metadata": {
        "id": "YSsq_1jpm__i"
      },
      "outputs": [],
      "source": [
        "data.rename(columns = {'is_delay': 'target'}, inplace=True)"
      ]
    },
    {
      "cell_type": "markdown",
      "metadata": {
        "id": "PQU_y5D0m__i"
      },
      "source": [
        "## <span style=\"color:red\"> End of Step 2 </span>\n",
        "\n",
        "Save the project file to your local computer. Follow these steps:\n",
        "\n",
        "1. In the file explorer on the left, right-click the notebook that you're working on.\n",
        "\n",
        "2. Choose **Download**, and save the file locally.  \n",
        "\n",
        "This action downloads the current notebook to the default download folder on your computer."
      ]
    },
    {
      "cell_type": "markdown",
      "metadata": {
        "id": "N5vC9zPSm__i"
      },
      "source": [
        "# Step 3: Model training and evaluation\n",
        "\n",
        "You must include some preliminary steps when you convert the dataset from a DataFrame to a format that a machine learning algorithm can use. For Amazon SageMaker, you must perform these steps:\n",
        "\n",
        "1. Split the data into `train_data`, `validation_data`, and `test_data` by using `sklearn.model_selection.train_test_split`.  \n",
        "\n",
        "2. Convert the dataset to an appropriate file format that the Amazon SageMaker training job can use. This can be either a CSV file or record protobuf. For more information, see [Common Data Formats for Training](https://docs.aws.amazon.com/sagemaker/latest/dg/cdf-training.html).  \n",
        "\n",
        "3. Upload the data to your S3 bucket. If you haven't created one before, see [Create a Bucket](https://docs.aws.amazon.com/AmazonS3/latest/gsg/CreatingABucket.html).  \n",
        "\n",
        "Use the following cells to complete these steps. Insert and delete cells where needed.\n",
        "\n",
        "#### <span style=\"color: blue;\">Project presentation: In your project presentation, write down the key decisions that you made in this phase.</span>"
      ]
    },
    {
      "cell_type": "markdown",
      "metadata": {
        "id": "FmOXqWx2m__i"
      },
      "source": [
        "### Train-test split"
      ]
    },
    {
      "cell_type": "code",
      "execution_count": null,
      "metadata": {
        "id": "daH4uxZ8m__i"
      },
      "outputs": [],
      "source": [
        "from sklearn.model_selection import train_test_split\n",
        "def split_data(data):\n",
        "    train, test_and_validate = train_test_split(data, test_size=0.2, random_state=42, stratify=data['target'])\n",
        "    test, validate = train_test_split(test_and_validate, test_size=0.5, random_state=42, stratify=test_and_validate['target'])\n",
        "    return train, validate, test"
      ]
    },
    {
      "cell_type": "code",
      "execution_count": null,
      "metadata": {
        "id": "PzAp_c9gm__i",
        "outputId": "7e99faf2-baba-453e-e722-1a0d8205f239"
      },
      "outputs": [
        {
          "name": "stdout",
          "output_type": "stream",
          "text": [
            "target\n",
            "0.0    1033806\n",
            "1.0     274666\n",
            "Name: count, dtype: int64\n",
            "target\n",
            "0.0    129226\n",
            "1.0     34333\n",
            "Name: count, dtype: int64\n",
            "target\n",
            "0.0    129226\n",
            "1.0     34333\n",
            "Name: count, dtype: int64\n"
          ]
        }
      ],
      "source": [
        "train, validate, test = split_data(data)\n",
        "print(train['target'].value_counts())\n",
        "print(test['target'].value_counts())\n",
        "print(validate['target'].value_counts())"
      ]
    },
    {
      "cell_type": "markdown",
      "metadata": {
        "id": "LJ99RuMUm__j"
      },
      "source": [
        "**Sample answer**\n",
        "```\n",
        "0.0    1033570\n",
        "1.0     274902\n",
        "Name: target, dtype: int64\n",
        "0.0    129076\n",
        "1.0     34483\n",
        "Name: target, dtype: int64\n",
        "0.0    129612\n",
        "1.0     33947\n",
        "Name: target, dtype: int64\n",
        "```"
      ]
    },
    {
      "cell_type": "markdown",
      "metadata": {
        "id": "JuBlRf5nm__j"
      },
      "source": [
        "### Baseline classification model"
      ]
    },
    {
      "cell_type": "code",
      "execution_count": null,
      "metadata": {
        "id": "QzmCnCzKm__j",
        "outputId": "c34cab76-b69c-4ad6-f32c-79f6dc5ca45e"
      },
      "outputs": [
        {
          "ename": "ModuleNotFoundError",
          "evalue": "No module named 'sagemaker'",
          "output_type": "error",
          "traceback": [
            "\u001b[0;31m---------------------------------------------------------------------------\u001b[0m",
            "\u001b[0;31mModuleNotFoundError\u001b[0m                       Traceback (most recent call last)",
            "Cell \u001b[0;32mIn[81], line 1\u001b[0m\n\u001b[0;32m----> 1\u001b[0m \u001b[38;5;28;01mimport\u001b[39;00m \u001b[38;5;21;01msagemaker\u001b[39;00m\n\u001b[1;32m      2\u001b[0m \u001b[38;5;28;01mfrom\u001b[39;00m \u001b[38;5;21;01msagemaker\u001b[39;00m\u001b[38;5;21;01m.\u001b[39;00m\u001b[38;5;21;01mserializers\u001b[39;00m \u001b[38;5;28;01mimport\u001b[39;00m CSVSerializer\n\u001b[1;32m      3\u001b[0m \u001b[38;5;28;01mfrom\u001b[39;00m \u001b[38;5;21;01msagemaker\u001b[39;00m\u001b[38;5;21;01m.\u001b[39;00m\u001b[38;5;21;01mamazon\u001b[39;00m\u001b[38;5;21;01m.\u001b[39;00m\u001b[38;5;21;01mamazon_estimator\u001b[39;00m \u001b[38;5;28;01mimport\u001b[39;00m RecordSet\n",
            "\u001b[0;31mModuleNotFoundError\u001b[0m: No module named 'sagemaker'"
          ]
        }
      ],
      "source": [
        "import sagemaker\n",
        "from sagemaker.serializers import CSVSerializer\n",
        "from sagemaker.amazon.amazon_estimator import RecordSet\n",
        "import boto3\n",
        "\n",
        "classifier_estimator = sagemaker.LinearLearner(role=sagemaker.get_execution_role(),\n",
        "                                               instance_count=1,\n",
        "                                               instance_type='ml.m4.xlarge',\n",
        "                                               predictor_type='binary_classifier',\n",
        "                                               binary_classifier_model_selection_criteria='accuracy')\n"
      ]
    },
    {
      "cell_type": "markdown",
      "metadata": {
        "id": "F5xbjSStm__j"
      },
      "source": [
        "### Sample code\n",
        "```\n",
        "num_classes = len(pd.unique(train_labels))\n",
        "classifier_estimator = sagemaker.LinearLearner(role=sagemaker.get_execution_role(),\n",
        "                                              instance_count=1,\n",
        "                                              instance_type='ml.m4.xlarge',\n",
        "                                              predictor_type='binary_classifier',\n",
        "                                              binary_classifier_model_selection_criteria = 'cross_entropy_loss')\n",
        "                                              \n",
        "```"
      ]
    },
    {
      "cell_type": "markdown",
      "metadata": {
        "id": "kLGxr19sm__j"
      },
      "source": [
        "Linear learner accepts training data in protobuf or CSV content types. It also accepts inference requests in protobuf, CSV, or JavaScript Object Notation (JSON) content types. Training data has features and ground-truth labels, but the data in an inference request has only features.\n",
        "\n",
        "In a production pipeline, AWS recommends converting the data to the Amazon SageMaker protobuf format and storing it in Amazon S3. To get up and running quickly, AWS provides the `record_set` operation for converting and uploading the dataset when it's small enough to fit in local memory. It accepts NumPy arrays like the ones you already have, so you will use it for this step. The `RecordSet` object will track the temporary Amazon S3 location of your data. Create train, validation, and test records by using the `estimator.record_set` function. Then, start your training job by using the `estimator.fit` function."
      ]
    },
    {
      "cell_type": "code",
      "execution_count": null,
      "metadata": {
        "id": "ZiHTlxvMm__j"
      },
      "outputs": [],
      "source": [
        "### Create train, validate, and test records\n",
        "train_records = classifier_estimator.record_set(train.values[:, 1:].astype(np.float32), train.values[:, 0].astype(np.float32), channel='train')\n",
        "val_records = classifier_estimator.record_set(validate.values[:, 1:].astype(np.float32), validate.values[:, 0].astype(np.float32), channel='validation')\n",
        "test_records = classifier_estimator.record_set(test.values[:, 1:].astype(np.float32), test.values[:, 0].astype(np.float32), channel='test')"
      ]
    },
    {
      "cell_type": "markdown",
      "metadata": {
        "id": "VYfCIykYm__j"
      },
      "source": [
        "Now, train your model on the dataset that you just uploaded.\n",
        "\n",
        "### Sample code\n",
        "```\n",
        "linear.fit([train_records,val_records,test_records])\n",
        "```"
      ]
    },
    {
      "cell_type": "code",
      "execution_count": null,
      "metadata": {
        "id": "QCuwFJjfm__j"
      },
      "outputs": [],
      "source": [
        "### Fit the classifier\n",
        "classifier_estimator.fit({'train': train_input, 'validation': validation_input})"
      ]
    },
    {
      "cell_type": "markdown",
      "metadata": {
        "id": "tPx3tTv8m__j"
      },
      "source": [
        "## Model evaluation\n",
        "In this section, you will evaluate your trained model."
      ]
    },
    {
      "cell_type": "markdown",
      "metadata": {
        "id": "mkT0SE9pm__j"
      },
      "source": [
        "First, examine the metrics for the training job:"
      ]
    },
    {
      "cell_type": "code",
      "execution_count": null,
      "metadata": {
        "id": "dIVDpINem__j"
      },
      "outputs": [],
      "source": [
        "sagemaker.analytics.TrainingJobAnalytics(classifier_estimator._current_job_name,\n",
        "                                         metric_names = ['test:objective_loss',\n",
        "                                                         'test:binary_f_beta',\n",
        "                                                         'test:precision',\n",
        "                                                         'test:recall']\n",
        "                                        ).dataframe()"
      ]
    },
    {
      "cell_type": "markdown",
      "metadata": {
        "id": "jL56epffm__j"
      },
      "source": [
        "Next, set up some functions that will help load the test data into Amazon S3 and perform a prediction by using the batch prediction function. Using batch prediction will help reduce costs because the instances will only run when predictions are performed on the supplied test data.\n",
        "\n",
        "**Note:** Replace `<LabBucketName>` with the name of the lab bucket that was created during the lab setup."
      ]
    },
    {
      "cell_type": "code",
      "execution_count": null,
      "metadata": {
        "id": "1m0a5aZZm__j"
      },
      "outputs": [],
      "source": [
        "import io\n",
        "#bucket='<LabBucketName>'\n",
        "prefix='flight-linear'\n",
        "train_file='flight_train.csv'\n",
        "test_file='flight_test.csv'\n",
        "validate_file='flight_validate.csv'\n",
        "whole_file='flight.csv'\n",
        "s3_resource = boto3.Session().resource('s3')\n",
        "\n",
        "def upload_s3_csv(filename, folder, dataframe):\n",
        "    csv_buffer = io.StringIO()\n",
        "    dataframe.to_csv(csv_buffer, header=False, index=False )\n",
        "    s3_resource.Bucket(bucket).Object(os.path.join(prefix, folder, filename)).put(Body=csv_buffer.getvalue())"
      ]
    },
    {
      "cell_type": "code",
      "execution_count": null,
      "metadata": {
        "id": "zGdsjZKjm__j"
      },
      "outputs": [],
      "source": [
        "def batch_linear_predict(test_data, estimator):\n",
        "    batch_X = test_data.iloc[:,1:];\n",
        "    batch_X_file='batch-in.csv'\n",
        "    upload_s3_csv(batch_X_file, 'batch-in', batch_X)\n",
        "\n",
        "    batch_output = \"s3://{}/{}/batch-out/\".format(bucket,prefix)\n",
        "    batch_input = \"s3://{}/{}/batch-in/{}\".format(bucket,prefix,batch_X_file)\n",
        "\n",
        "    classifier_transformer = estimator.transformer(instance_count=1,\n",
        "                                           instance_type='ml.m4.xlarge',\n",
        "                                           strategy='MultiRecord',\n",
        "                                           assemble_with='Line',\n",
        "                                           output_path=batch_output)\n",
        "\n",
        "    classifier_transformer.transform(data=batch_input,\n",
        "                             data_type='S3Prefix',\n",
        "                             content_type='text/csv',\n",
        "                             split_type='Line')\n",
        "\n",
        "    classifier_transformer.wait()\n",
        "\n",
        "    s3 = boto3.client('s3')\n",
        "    obj = s3.get_object(Bucket=bucket, Key=\"{}/batch-out/{}\".format(prefix,'batch-in.csv.out'))\n",
        "    target_predicted_df = pd.read_json(io.BytesIO(obj['Body'].read()),orient=\"records\",lines=True)\n",
        "    return test_data.iloc[:,0], target_predicted_df.iloc[:,0]"
      ]
    },
    {
      "cell_type": "markdown",
      "metadata": {
        "id": "JNe71OdEm__j"
      },
      "source": [
        "\n",
        "To run the predictions on the test dataset, run the `batch_linear_predict` function (which was defined previously) on your test dataset.\n"
      ]
    },
    {
      "cell_type": "code",
      "execution_count": null,
      "metadata": {
        "id": "icH8RDJCm__j"
      },
      "outputs": [],
      "source": [
        "test_labels, target_predicted = batch_linear_predict(test, classifier_estimator)"
      ]
    },
    {
      "cell_type": "markdown",
      "metadata": {
        "id": "EhQpDmqam__j"
      },
      "source": [
        "To view a plot of the confusion matrix, and various scoring metrics, create a couple of functions:"
      ]
    },
    {
      "cell_type": "code",
      "execution_count": null,
      "metadata": {
        "id": "PgNZkEwWm__k"
      },
      "outputs": [],
      "source": [
        "from sklearn.metrics import confusion_matrix\n",
        "\n",
        "def plot_confusion_matrix(test_labels, target_predicted):\n",
        "    matrix = confusion_matrix(test_labels, target_predicted)\n",
        "    df_confusion = pd.DataFrame(matrix)\n",
        "    colormap = sns.color_palette(\"BrBG\", 10)\n",
        "    sns.heatmap(df_confusion, annot=True, fmt='.2f', cbar=None, cmap=colormap)\n",
        "    plt.title(\"Confusion Matrix\")\n",
        "    plt.tight_layout()\n",
        "    plt.ylabel(\"True Class\")\n",
        "    plt.xlabel(\"Predicted Class\")\n",
        "    plt.show()\n"
      ]
    },
    {
      "cell_type": "code",
      "execution_count": null,
      "metadata": {
        "id": "FkdONcppm__k"
      },
      "outputs": [],
      "source": [
        "from sklearn import metrics\n",
        "\n",
        "def plot_roc(test_labels, target_predicted):\n",
        "    TN, FP, FN, TP = confusion_matrix(test_labels, target_predicted).ravel()\n",
        "    # Sensitivity, hit rate, recall, or true positive rate\n",
        "    Sensitivity  = float(TP)/(TP+FN)*100\n",
        "    # Specificity or true negative rate\n",
        "    Specificity  = float(TN)/(TN+FP)*100\n",
        "    # Precision or positive predictive value\n",
        "    Precision = float(TP)/(TP+FP)*100\n",
        "    # Negative predictive value\n",
        "    NPV = float(TN)/(TN+FN)*100\n",
        "    # Fall out or false positive rate\n",
        "    FPR = float(FP)/(FP+TN)*100\n",
        "    # False negative rate\n",
        "    FNR = float(FN)/(TP+FN)*100\n",
        "    # False discovery rate\n",
        "    FDR = float(FP)/(TP+FP)*100\n",
        "    # Overall accuracy\n",
        "    ACC = float(TP+TN)/(TP+FP+FN+TN)*100\n",
        "\n",
        "    print(\"Sensitivity or TPR: \", Sensitivity, \"%\")\n",
        "    print( \"Specificity or TNR: \",Specificity, \"%\")\n",
        "    print(\"Precision: \",Precision, \"%\")\n",
        "    print(\"Negative Predictive Value: \",NPV, \"%\")\n",
        "    print( \"False Positive Rate: \",FPR,\"%\")\n",
        "    print(\"False Negative Rate: \",FNR, \"%\")\n",
        "    print(\"False Discovery Rate: \",FDR, \"%\" )\n",
        "    print(\"Accuracy: \",ACC, \"%\")\n",
        "\n",
        "    test_labels = test.iloc[:,0];\n",
        "    print(\"Validation AUC\", metrics.roc_auc_score(test_labels, target_predicted) )\n",
        "\n",
        "    fpr, tpr, thresholds = metrics.roc_curve(test_labels, target_predicted)\n",
        "    roc_auc = metrics.auc(fpr, tpr)\n",
        "\n",
        "    plt.figure()\n",
        "    plt.plot(fpr, tpr, label='ROC curve (area = %0.2f)' % (roc_auc))\n",
        "    plt.plot([0, 1], [0, 1], 'k--')\n",
        "    plt.xlim([0.0, 1.0])\n",
        "    plt.ylim([0.0, 1.05])\n",
        "    plt.xlabel('False Positive Rate')\n",
        "    plt.ylabel('True Positive Rate')\n",
        "    plt.title('Receiver operating characteristic')\n",
        "    plt.legend(loc=\"lower right\")\n",
        "\n",
        "    # create the axis of thresholds (scores)\n",
        "    ax2 = plt.gca().twinx()\n",
        "    ax2.plot(fpr, thresholds, markeredgecolor='r',linestyle='dashed', color='r')\n",
        "    ax2.set_ylabel('Threshold',color='r')\n",
        "    ax2.set_ylim([thresholds[-1],thresholds[0]])\n",
        "    ax2.set_xlim([fpr[0],fpr[-1]])\n",
        "\n",
        "    print(plt.figure())"
      ]
    },
    {
      "cell_type": "markdown",
      "metadata": {
        "id": "mKewznBxm__k"
      },
      "source": [
        "To plot the confusion matrix, call the `plot_confusion_matrix` function on the `test_labels` and the `target_predicted` data from your batch job:"
      ]
    },
    {
      "cell_type": "code",
      "execution_count": null,
      "metadata": {
        "id": "Y7Uq2upPm__k"
      },
      "outputs": [],
      "source": [
        "plot_confusion_matrix(test_labels, target_predicted)"
      ]
    },
    {
      "cell_type": "markdown",
      "metadata": {
        "id": "IdluMeXgm__k"
      },
      "source": [
        "### Key questions to consider:\n",
        "\n",
        "1. How does your model's performance on the test set compare to its performance on the training set? What can you deduce from this comparison?\n",
        "2. Are there obvious differences between the outcomes of metrics like accuracy, precision, and recall? If so, why might you be seeing those differences?\n",
        "3. Given your business situation and goals, which metric (or metrics) is the most important for you to consider? Why?\n",
        "4. From a business standpoint, is the outcome for the metric (or metrics) that you consider to be the most important sufficient for what you need? If not, what are some things you might change in your next iteration? (This will happen in the feature engineering section, which is next.)\n",
        "\n",
        "Use the following cells to answer these (and other) questions. Insert and delete cells where needed.\n",
        "\n",
        "#### <span style=\"color: blue;\">Project presentation: In your project presentation, write down your answers to these questions -- and other similar questions that you might answer -- in this section. Record the key details and decisions that you made.</span>"
      ]
    },
    {
      "cell_type": "markdown",
      "metadata": {
        "id": "G-lqLGc5m__k"
      },
      "source": [
        "\n",
        "**Question**: What can you summarize from the confusion matrix?\n"
      ]
    },
    {
      "cell_type": "code",
      "execution_count": null,
      "metadata": {
        "id": "hEFoR5z4m__k"
      },
      "outputs": [],
      "source": [
        "# Enter your answer here"
      ]
    },
    {
      "cell_type": "markdown",
      "metadata": {
        "id": "vm4j7zABm__k"
      },
      "source": [
        "## <span style=\"color:red\"> End of Step 3 </span>\n",
        "\n",
        "Save the project file to your local computer. Follow these steps:\n",
        "\n",
        "1. In the file explorer on the left, right-click the notebook that you're working on.\n",
        "\n",
        "2. Select **Download**, and save the file locally.  \n",
        "\n",
        "This action downloads the current notebook to the default download folder on your computer."
      ]
    },
    {
      "cell_type": "markdown",
      "metadata": {
        "id": "CYeweIk6m__k"
      },
      "source": [
        "# Iteration II"
      ]
    },
    {
      "cell_type": "markdown",
      "metadata": {
        "id": "fvNvlAM1m__k"
      },
      "source": [
        "# Step 4: Feature engineering\n",
        "\n",
        "You have now gone through one iteration of training and evaluating your model. Given that the first outcome that you reached for your model probably wasn't sufficient for solving your business problem, what could you change about your data to possibly improve model performance?\n",
        "\n",
        "### Key questions to consider:\n",
        "\n",
        "1. How might the balance of your two main classes (*delay* and *no delay*) impact model performance?\n",
        "2. Do you have any features that are correlated?\n",
        "3. At this stage, could you perform any feature-reduction techniques that might have a positive impact on model performance?\n",
        "4. Can you think of adding some more data or datasets?\n",
        "5. After performing some feature engineering, how does the performance of your model compare to the first iteration?\n",
        "\n",
        "Use the following cells to perform specific feature-engineering techniques that you think could improve your model performance (use the previous questions as a guide). Insert and delete cells where needed.\n",
        "\n",
        "#### <span style=\"color: blue;\">Project presentation: In your project presentation, record your key decisions and the methods that you use in this section. Also include any new performance metrics that you obtain after you evaluate your model again.</span>\n",
        "\n",
        "Before you start, think about why the precision and recall are around 80 percent, and the accuracy is at 99 percent."
      ]
    },
    {
      "cell_type": "markdown",
      "metadata": {
        "id": "pfI9diAPm__k"
      },
      "source": [
        "Add more features:\n",
        "\n",
        "1. Holidays\n",
        "2. Weather"
      ]
    },
    {
      "cell_type": "markdown",
      "metadata": {
        "id": "QTImldoYm__k"
      },
      "source": [
        "Because the list of holidays from 2014 to 2018 is known, you can create an indicator variable **is_holiday** to mark them.\n",
        "\n",
        "The hypothesis is that airplane delays could be higher during holidays compared to the rest of the days. Add a boolean variable `is_holiday` that includes the holidays for the years 2014-2018."
      ]
    },
    {
      "cell_type": "code",
      "execution_count": null,
      "metadata": {
        "id": "zTnkz9zNm__k"
      },
      "outputs": [],
      "source": [
        "# Source: http://www.calendarpedia.com/holidays/federal-holidays-2014.html\n",
        "\n",
        "holidays_14 = ['2014-01-01',  '2014-01-20', '2014-02-17', '2014-05-26', '2014-07-04', '2014-09-01', '2014-10-13', '2014-11-11', '2014-11-27', '2014-12-25' ]\n",
        "holidays_15 = ['2015-01-01',  '2015-01-19', '2015-02-16', '2015-05-25', '2015-06-03', '2015-07-04', '2015-09-07', '2015-10-12', '2015-11-11', '2015-11-26', '2015-12-25']\n",
        "holidays_16 = ['2016-01-01',  '2016-01-18', '2016-02-15', '2016-05-30', '2016-07-04', '2016-09-05', '2016-10-10', '2016-11-11', '2016-11-24', '2016-12-25', '2016-12-26']\n",
        "holidays_17 = ['2017-01-02', '2017-01-16', '2017-02-20', '2017-05-29' , '2017-07-04', '2017-09-04' ,'2017-10-09', '2017-11-10', '2017-11-23', '2017-12-25']\n",
        "holidays_18 = ['2018-01-01', '2018-01-15', '2018-02-19', '2018-05-28' , '2018-07-04', '2018-09-03' ,'2018-10-08', '2018-11-12','2018-11-22', '2018-12-25']\n",
        "holidays = holidays_14+ holidays_15+ holidays_16 + holidays_17+ holidays_18\n",
        "\n",
        "### Add indicator variable for holidays\n",
        "data_orig['is_holiday'] = # Enter your code here"
      ]
    },
    {
      "cell_type": "markdown",
      "metadata": {
        "id": "GNY2uq98m__k"
      },
      "source": [
        "Weather data was fetched from https://www.ncei.noaa.gov/access/services/data/v1?dataset=daily-summaries&stations=USW00023174,USW00012960,USW00003017,USW00094846,USW00013874,USW00023234,USW00003927,USW00023183,USW00013881&dataTypes=AWND,PRCP,SNOW,SNWD,TAVG,TMIN,TMAX&startDate=2014-01-01&endDate=2018-12-31.\n",
        "<br>\n",
        "\n",
        "This dataset has information on wind speed, precipitation, snow, and temperature for cities by their airport codes.\n",
        "\n",
        "**Question**: Could bad weather because of rain, heavy winds, or snow lead to airplane delays? You will now check."
      ]
    },
    {
      "cell_type": "code",
      "execution_count": null,
      "metadata": {
        "id": "sFQKPN-Um__k"
      },
      "outputs": [],
      "source": [
        "!aws s3 cp s3://aws-tc-largeobjects/CUR-TF-200-ACMLFO-1/flight_delay_project/data2/daily-summaries.csv /home/ec2-user/SageMaker/project/data/\n",
        "#!wget 'https://www.ncei.noaa.gov/access/services/data/v1?dataset=daily-summaries&stations=USW00023174,USW00012960,USW00003017,USW00094846,USW00013874,USW00023234,USW00003927,USW00023183,USW00013881&dataTypes=AWND,PRCP,SNOW,SNWD,TAVG,TMIN,TMAX&startDate=2014-01-01&endDate=2018-12-31' -O /home/ec2-user/SageMaker/project/data/daily-summaries.csv"
      ]
    },
    {
      "cell_type": "markdown",
      "metadata": {
        "id": "6B2ZeBefm__k"
      },
      "source": [
        "Import the weather data that was prepared for the airport codes in the dataset. Use the following stations and airports  for the analysis. Create a new column called *airport* that maps the weather station to the airport name."
      ]
    },
    {
      "cell_type": "code",
      "execution_count": null,
      "metadata": {
        "id": "b_Uh2-B7m__k"
      },
      "outputs": [],
      "source": [
        "weather = pd.read_csv('/home/ec2-user/SageMaker/project/data/daily-summaries.csv')\n",
        "station = ['USW00023174','USW00012960','USW00003017','USW00094846','USW00013874','USW00023234','USW00003927','USW00023183','USW00013881']\n",
        "airports = ['LAX', 'IAH', 'DEN', 'ORD', 'ATL', 'SFO', 'DFW', 'PHX', 'CLT']\n",
        "\n",
        "### Map weather stations to airport code\n",
        "station_map = {s:a for s,a in zip(station, airports)}\n",
        "weather['airport'] = weather['STATION'].map(station_map)"
      ]
    },
    {
      "cell_type": "markdown",
      "metadata": {
        "id": "57ftiowIm__l"
      },
      "source": [
        "From the **DATE** column, create another column called *MONTH*."
      ]
    },
    {
      "cell_type": "code",
      "execution_count": null,
      "metadata": {
        "id": "DDItiVSpm__l"
      },
      "outputs": [],
      "source": [
        "weather['MONTH'] = weather['DATE'].apply(lambda x: x.split('-')[1])\n",
        "weather.head()"
      ]
    },
    {
      "cell_type": "markdown",
      "metadata": {
        "id": "5QwTpwblm__l"
      },
      "source": [
        "### Sample output\n",
        "```\n",
        "  STATION     DATE      AWND PRCP SNOW SNWD TAVG TMAX  TMIN airport MONTH\n",
        "0 USW00023174 2014-01-01 16   0   NaN  NaN 131.0 178.0 78.0  LAX    01\n",
        "1 USW00023174 2014-01-02 22   0   NaN  NaN 159.0 256.0 100.0 LAX    01\n",
        "2 USW00023174 2014-01-03 17   0   NaN  NaN 140.0 178.0 83.0  LAX    01\n",
        "3 USW00023174 2014-01-04 18   0   NaN  NaN 136.0 183.0 100.0 LAX    01\n",
        "4 USW00023174 2014-01-05 18   0   NaN  NaN 151.0 244.0 83.0  LAX    01\n",
        "```"
      ]
    },
    {
      "cell_type": "markdown",
      "metadata": {
        "id": "62riBj_em__l"
      },
      "source": [
        "Analyze and handle the **SNOW** and **SNWD** columns for missing values by using `fillna()`. To check the missing values for all the columns, use the `isna()` function."
      ]
    },
    {
      "cell_type": "code",
      "execution_count": null,
      "metadata": {
        "id": "NQ2WYEwSm__l"
      },
      "outputs": [],
      "source": [
        "weather.SNOW.fillna(0, inplace=True)\n",
        "weather.SNWD.fillna(0, inplace=True)\n",
        "weather.isna().sum()"
      ]
    },
    {
      "cell_type": "markdown",
      "metadata": {
        "id": "HN-1mkeym__l"
      },
      "source": [
        "**Question**: Print the index of the rows that have missing values for *TAVG*, *TMAX*, *TMIN*.\n",
        "\n",
        "**Hint**: To find the rows that are missing, use the `isna()` function. Then, to get the index, use the list on the *idx* variable."
      ]
    },
    {
      "cell_type": "code",
      "execution_count": null,
      "metadata": {
        "id": "3cvnKN8Cm__l"
      },
      "outputs": [],
      "source": [
        "idx = np.array([i for i in range(len(weather))])\n",
        "TAVG_idx = idx[weather.TAVG.isna()]\n",
        "TMAX_idx = # Enter your code here\n",
        "TMIN_idx = # Enter your code here\n",
        "TAVG_idx"
      ]
    },
    {
      "cell_type": "markdown",
      "metadata": {
        "id": "lpM1CsI3m__l"
      },
      "source": [
        "### Sample output\n",
        "\n",
        "```\n",
        "array([ 3956,  3957,  3958,  3959,  3960,  3961,  3962,  3963,  3964,\n",
        "        3965,  3966,  3967,  3968,  3969,  3970,  3971,  3972,  3973,\n",
        "        3974,  3975,  3976,  3977,  3978,  3979,  3980,  3981,  3982,\n",
        "        3983,  3984,  3985,  4017,  4018,  4019,  4020,  4021,  4022,\n",
        "        4023,  4024,  4025,  4026,  4027,  4028,  4029,  4030,  4031,\n",
        "        4032,  4033,  4034,  4035,  4036,  4037,  4038,  4039,  4040,\n",
        "        4041,  4042,  4043,  4044,  4045,  4046,  4047, 13420])\n",
        "```"
      ]
    },
    {
      "cell_type": "markdown",
      "metadata": {
        "id": "syVqmgBnm__l"
      },
      "source": [
        "You can replace the missing *TAVG*, *TMAX*, and *TMIN* values with the average value for a particular station or airport. Because consecutive rows of *TAVG_idx* are missing, replacing them with a previous value would not be possible. Instead, replace them with the mean. Use the `groupby` function to aggregate the variables with a mean value.\n",
        "\n",
        "**Hint:** Group by `MONTH` and `STATION`."
      ]
    },
    {
      "cell_type": "code",
      "execution_count": null,
      "metadata": {
        "id": "mYNaz8Dsm__l"
      },
      "outputs": [],
      "source": [
        "weather_impute = weather.groupby([<CODE>]).agg({'TAVG':'mean','TMAX':'mean', 'TMIN':'mean' }).reset_index()# Enter your code here\n",
        "weather_impute.head(2)"
      ]
    },
    {
      "cell_type": "markdown",
      "metadata": {
        "id": "HOygIMc1m__l"
      },
      "source": [
        "Merge the mean data with the weather data."
      ]
    },
    {
      "cell_type": "code",
      "execution_count": null,
      "metadata": {
        "id": "y9qHB7ZXm__l"
      },
      "outputs": [],
      "source": [
        "\n",
        "weather = pd.merge(weather, weather_impute,  how='left', left_on=['MONTH','STATION'], right_on = ['MONTH','STATION'])\\\n",
        ".rename(columns = {'TAVG_y':'TAVG_AVG',\n",
        "                   'TMAX_y':'TMAX_AVG',\n",
        "                   'TMIN_y':'TMIN_AVG',\n",
        "                   'TAVG_x':'TAVG',\n",
        "                   'TMAX_x':'TMAX',\n",
        "                   'TMIN_x':'TMIN'})"
      ]
    },
    {
      "cell_type": "markdown",
      "metadata": {
        "id": "8uGZyQsRm__l"
      },
      "source": [
        "Check for missing values again."
      ]
    },
    {
      "cell_type": "code",
      "execution_count": null,
      "metadata": {
        "id": "N3fv_JxCm__l"
      },
      "outputs": [],
      "source": [
        "weather.TAVG[TAVG_idx] = weather.TAVG_AVG[TAVG_idx]\n",
        "weather.TMAX[TMAX_idx] = weather.TMAX_AVG[TMAX_idx]\n",
        "weather.TMIN[TMIN_idx] = weather.TMIN_AVG[TMIN_idx]\n",
        "weather.isna().sum()"
      ]
    },
    {
      "cell_type": "markdown",
      "metadata": {
        "id": "__yRV3LQm__l"
      },
      "source": [
        "Drop `STATION,MONTH,TAVG_AVG,TMAX_AVG,TMIN_AVG,TMAX,TMIN,SNWD` from the dataset."
      ]
    },
    {
      "cell_type": "code",
      "execution_count": null,
      "metadata": {
        "id": "0Bzurd-4m__l"
      },
      "outputs": [],
      "source": [
        "weather.drop(columns=['STATION','MONTH','TAVG_AVG', 'TMAX_AVG', 'TMIN_AVG', 'TMAX' ,'TMIN', 'SNWD'],inplace=True)"
      ]
    },
    {
      "cell_type": "markdown",
      "metadata": {
        "id": "HDVyNk89m__l"
      },
      "source": [
        "Add the origin and destination weather conditions to the dataset."
      ]
    },
    {
      "cell_type": "code",
      "execution_count": null,
      "metadata": {
        "id": "4LPXUdagm__l"
      },
      "outputs": [],
      "source": [
        "### Add origin weather conditions\n",
        "data_orig = pd.merge(data_orig, weather,  how='left', left_on=['FlightDate','Origin'], right_on = ['DATE','airport'])\\\n",
        ".rename(columns = {'AWND':'AWND_O','PRCP':'PRCP_O', 'TAVG':'TAVG_O', 'SNOW': 'SNOW_O'})\\\n",
        ".drop(columns=['DATE','airport'])\n",
        "\n",
        "### Add destination weather conditions\n",
        "data_orig = pd.merge(data_orig, weather,  how='left', left_on=['FlightDate','Dest'], right_on = ['DATE','airport'])\\\n",
        ".rename(columns = {'AWND':'AWND_D','PRCP':'PRCP_D', 'TAVG':'TAVG_D', 'SNOW': 'SNOW_D'})\\\n",
        ".drop(columns=['DATE','airport'])"
      ]
    },
    {
      "cell_type": "markdown",
      "metadata": {
        "id": "1FTI82rsm__m"
      },
      "source": [
        "**Note**: It's always a good practice to check for nulls or NAs after joins."
      ]
    },
    {
      "cell_type": "code",
      "execution_count": null,
      "metadata": {
        "id": "HBr_534Pm__m"
      },
      "outputs": [],
      "source": [
        "sum(data.isna().any())"
      ]
    },
    {
      "cell_type": "code",
      "execution_count": null,
      "metadata": {
        "id": "B80hp-nHm__m"
      },
      "outputs": [],
      "source": [
        "data_orig.columns"
      ]
    },
    {
      "cell_type": "markdown",
      "metadata": {
        "id": "3Sfisx2km__m"
      },
      "source": [
        "Convert the categorical data into numerical data by using one-hot encoding."
      ]
    },
    {
      "cell_type": "code",
      "execution_count": null,
      "metadata": {
        "id": "87lNAnCzm__m"
      },
      "outputs": [],
      "source": [
        "data = data_orig.copy()\n",
        "data = data[['is_delay', 'Year', 'Quarter', 'Month', 'DayofMonth', 'DayOfWeek',\n",
        "       'Reporting_Airline', 'Origin', 'Dest','Distance','DepHourofDay','is_holiday', 'AWND_O', 'PRCP_O',\n",
        "       'TAVG_O', 'AWND_D', 'PRCP_D', 'TAVG_D', 'SNOW_O', 'SNOW_D']]\n",
        "\n",
        "\n",
        "categorical_columns  = ['Year', 'Quarter', 'Month', 'DayofMonth', 'DayOfWeek',\n",
        "       'Reporting_Airline', 'Origin', 'Dest', 'is_holiday']\n",
        "for c in categorical_columns:\n",
        "    data[c] = data[c].astype('category')"
      ]
    },
    {
      "cell_type": "code",
      "execution_count": null,
      "metadata": {
        "id": "NTdhz0dBm__m"
      },
      "outputs": [],
      "source": [
        "data_dummies = pd.get_dummies(data[['Year', 'Quarter', 'Month', 'DayofMonth', 'DayOfWeek', 'Reporting_Airline', 'Origin', 'Dest', 'is_holiday']], drop_first=True)\n",
        "data_dummies = data_dummies.replace({True: 1, False: 0})\n",
        "data = pd.concat([data, data_dummies], axis = 1)\n",
        "data.drop(categorical_columns,axis=1, inplace=True)"
      ]
    },
    {
      "cell_type": "markdown",
      "metadata": {
        "id": "IiCtrruSm__m"
      },
      "source": [
        "Check the new columns."
      ]
    },
    {
      "cell_type": "code",
      "execution_count": null,
      "metadata": {
        "id": "5rK6dslmm__m"
      },
      "outputs": [],
      "source": [
        "data.shape"
      ]
    },
    {
      "cell_type": "code",
      "execution_count": null,
      "metadata": {
        "id": "GIB-FAmqm__m"
      },
      "outputs": [],
      "source": [
        "data.columns"
      ]
    },
    {
      "cell_type": "markdown",
      "metadata": {
        "id": "Er5e1u6im__m"
      },
      "source": [
        "### Sample output\n",
        "\n",
        "```\n",
        "Index(['Distance', 'DepHourofDay', 'is_delay', 'AWND_O', 'PRCP_O', 'TAVG_O',\n",
        "       'AWND_D', 'PRCP_D', 'TAVG_D', 'SNOW_O', 'SNOW_D', 'Year_2015',\n",
        "       'Year_2016', 'Year_2017', 'Year_2018', 'Quarter_2', 'Quarter_3',\n",
        "       'Quarter_4', 'Month_2', 'Month_3', 'Month_4', 'Month_5', 'Month_6',\n",
        "       'Month_7', 'Month_8', 'Month_9', 'Month_10', 'Month_11', 'Month_12',\n",
        "       'DayofMonth_2', 'DayofMonth_3', 'DayofMonth_4', 'DayofMonth_5',\n",
        "       'DayofMonth_6', 'DayofMonth_7', 'DayofMonth_8', 'DayofMonth_9',\n",
        "       'DayofMonth_10', 'DayofMonth_11', 'DayofMonth_12', 'DayofMonth_13',\n",
        "       'DayofMonth_14', 'DayofMonth_15', 'DayofMonth_16', 'DayofMonth_17',\n",
        "       'DayofMonth_18', 'DayofMonth_19', 'DayofMonth_20', 'DayofMonth_21',\n",
        "       'DayofMonth_22', 'DayofMonth_23', 'DayofMonth_24', 'DayofMonth_25',\n",
        "       'DayofMonth_26', 'DayofMonth_27', 'DayofMonth_28', 'DayofMonth_29',\n",
        "       'DayofMonth_30', 'DayofMonth_31', 'DayOfWeek_2', 'DayOfWeek_3',\n",
        "       'DayOfWeek_4', 'DayOfWeek_5', 'DayOfWeek_6', 'DayOfWeek_7',\n",
        "       'Reporting_Airline_DL', 'Reporting_Airline_OO', 'Reporting_Airline_UA',\n",
        "       'Reporting_Airline_WN', 'Origin_CLT', 'Origin_DEN', 'Origin_DFW',\n",
        "       'Origin_IAH', 'Origin_LAX', 'Origin_ORD', 'Origin_PHX', 'Origin_SFO',\n",
        "       'Dest_CLT', 'Dest_DEN', 'Dest_DFW', 'Dest_IAH', 'Dest_LAX', 'Dest_ORD',\n",
        "       'Dest_PHX', 'Dest_SFO', 'is_holiday_1'],\n",
        "      dtype='object')\n",
        "```"
      ]
    },
    {
      "cell_type": "markdown",
      "metadata": {
        "id": "Jgkn3tuYm__m"
      },
      "source": [
        "Rename the **is_delay** column to *target* again. Use the same code that you used previously."
      ]
    },
    {
      "cell_type": "code",
      "execution_count": null,
      "metadata": {
        "id": "voDaqhLVm__m"
      },
      "outputs": [],
      "source": [
        "data.rename(columns = {'is_delay': 'target'}, inplace=True)"
      ]
    },
    {
      "cell_type": "markdown",
      "metadata": {
        "id": "yPR5EdAIm__m"
      },
      "source": [
        "Create the training sets again.\n",
        "\n",
        "**Hint:** Use the `split_data` function that you defined (and used) earlier."
      ]
    },
    {
      "cell_type": "code",
      "execution_count": null,
      "metadata": {
        "id": "dcOgCA25m__m"
      },
      "outputs": [],
      "source": [
        "# Enter your code here"
      ]
    },
    {
      "cell_type": "markdown",
      "metadata": {
        "id": "Z31Ka4_8m__m"
      },
      "source": [
        "### New baseline classifier\n",
        "\n",
        "Now, see if these new features add any predictive power to the model."
      ]
    },
    {
      "cell_type": "code",
      "execution_count": null,
      "metadata": {
        "id": "0HeVoOz7m__m"
      },
      "outputs": [],
      "source": [
        "# Instantiate the LinearLearner estimator object\n",
        "classifier_estimator2 = # Enter your code here"
      ]
    },
    {
      "cell_type": "markdown",
      "metadata": {
        "id": "LVahVo73m__m"
      },
      "source": [
        "### Sample code\n",
        "\n",
        "```\n",
        "num_classes = len(pd.unique(train_labels))\n",
        "classifier_estimator2 = sagemaker.LinearLearner(role=sagemaker.get_execution_role(),\n",
        "                                               instance_count=1,\n",
        "                                               instance_type='ml.m4.xlarge',\n",
        "                                               predictor_type='binary_classifier',\n",
        "                                               binary_classifier_model_selection_criteria = 'cross_entropy_loss')\n",
        "```"
      ]
    },
    {
      "cell_type": "code",
      "execution_count": null,
      "metadata": {
        "id": "Hx9x5Gfpm__m"
      },
      "outputs": [],
      "source": [
        "train_records = classifier_estimator2.record_set(train.values[:, 1:].astype(np.float32), train.values[:, 0].astype(np.float32), channel='train')\n",
        "val_records = classifier_estimator2.record_set(validate.values[:, 1:].astype(np.float32), validate.values[:, 0].astype(np.float32), channel='validation')\n",
        "test_records = classifier_estimator2.record_set(test.values[:, 1:].astype(np.float32), test.values[:, 0].astype(np.float32), channel='test')"
      ]
    },
    {
      "cell_type": "markdown",
      "metadata": {
        "id": "WKbGbl-am__m"
      },
      "source": [
        "Train your model by using the three datasets that you just created."
      ]
    },
    {
      "cell_type": "code",
      "execution_count": null,
      "metadata": {
        "id": "UIe_vJPvm__n"
      },
      "outputs": [],
      "source": [
        "# Enter your code here"
      ]
    },
    {
      "cell_type": "markdown",
      "metadata": {
        "id": "nHmkvzaDm__n"
      },
      "source": [
        "Perform a batch prediction by using the newly trained model."
      ]
    },
    {
      "cell_type": "code",
      "execution_count": null,
      "metadata": {
        "id": "_nLa_1lwm__n"
      },
      "outputs": [],
      "source": [
        "# Enter your code here"
      ]
    },
    {
      "cell_type": "markdown",
      "metadata": {
        "id": "JuwTM9Cxm__n"
      },
      "source": [
        "Plot a confusion matrix."
      ]
    },
    {
      "cell_type": "code",
      "execution_count": null,
      "metadata": {
        "id": "Le5yWUvFm__n"
      },
      "outputs": [],
      "source": [
        "# Enter your code here"
      ]
    },
    {
      "cell_type": "markdown",
      "metadata": {
        "id": "R4d6WSGvm__n"
      },
      "source": [
        "The linear model shows only a little improvement in performance. Try a tree-based ensemble model, which is called *XGBoost*, with Amazon SageMaker."
      ]
    },
    {
      "cell_type": "markdown",
      "metadata": {
        "id": "WoEXaPQCm__n"
      },
      "source": [
        "### Try the XGBoost model"
      ]
    },
    {
      "cell_type": "markdown",
      "metadata": {
        "id": "JhWav5-fm__n"
      },
      "source": [
        "Perform these steps:  \n",
        "\n",
        "1. Use the training set variables and save them as CSV files: train.csv, validation.csv and test.csv.\n",
        "2. Store the bucket name in the variable. The Amazon S3 bucket name is provided to the left of the lab instructions.  \n",
        "a. `bucket = <LabBucketName>`  \n",
        "b. `prefix = 'flight-xgb'`  \n",
        "3. Use the AWS SDK for Python (Boto3) to upload the model to the bucket.    "
      ]
    },
    {
      "cell_type": "code",
      "execution_count": null,
      "metadata": {
        "id": "yM9DasAHm__n"
      },
      "outputs": [],
      "source": [
        "bucket='c130116a3296638l8550647t1w76697754627-flightbucket-himgbdujkemj'\n",
        "prefix='flight-xgb'\n",
        "train_file='flight_train.csv'\n",
        "test_file='flight_test.csv'\n",
        "validate_file='flight_validate.csv'\n",
        "whole_file='flight.csv'\n",
        "s3_resource = boto3.Session().resource('s3')\n",
        "\n",
        "def upload_s3_csv(filename, folder, dataframe):\n",
        "    csv_buffer = io.StringIO()\n",
        "    dataframe.to_csv(csv_buffer, header=False, index=False )\n",
        "    s3_resource.Bucket(bucket).Object(os.path.join(prefix, folder, filename)).put(Body=csv_buffer.getvalue())\n",
        "\n",
        "upload_s3_csv(train_file, 'train', train)\n",
        "upload_s3_csv(test_file, 'test', test)\n",
        "upload_s3_csv(validate_file, 'validate', validate)"
      ]
    },
    {
      "cell_type": "markdown",
      "metadata": {
        "id": "1MW1Hkedm__n"
      },
      "source": [
        "Use the `sagemaker.inputs.TrainingInput` function to create a `record_set` for the training and validation datasets."
      ]
    },
    {
      "cell_type": "code",
      "execution_count": null,
      "metadata": {
        "id": "ls8lT44_m__n"
      },
      "outputs": [],
      "source": [
        "train_channel = sagemaker.inputs.TrainingInput(\n",
        "    \"s3://{}/{}/train/\".format(bucket,prefix,train_file),\n",
        "    content_type='text/csv')\n",
        "\n",
        "validate_channel = sagemaker.inputs.TrainingInput(\n",
        "    \"s3://{}/{}/validate/\".format(bucket,prefix,validate_file),\n",
        "    content_type='text/csv')\n",
        "\n",
        "data_channels = {'train': train_channel, 'validation': validate_channel}"
      ]
    },
    {
      "cell_type": "code",
      "execution_count": null,
      "metadata": {
        "id": "nyXWdnyZm__n"
      },
      "outputs": [],
      "source": [
        "from sagemaker.image_uris import retrieve\n",
        "container = retrieve('xgboost',boto3.Session().region_name,'1.0-1')"
      ]
    },
    {
      "cell_type": "code",
      "execution_count": null,
      "metadata": {
        "id": "xgbtJUgHm__n"
      },
      "outputs": [],
      "source": [
        "sess = sagemaker.Session()\n",
        "s3_output_location=\"s3://{}/{}/output/\".format(bucket,prefix)\n",
        "\n",
        "xgb = sagemaker.estimator.Estimator(container,\n",
        "                                    role = sagemaker.get_execution_role(),\n",
        "                                    instance_count=1,\n",
        "                                    instance_type=instance_type,\n",
        "                                    output_path=s3_output_location,\n",
        "                                    sagemaker_session=sess)\n",
        "xgb.set_hyperparameters(max_depth=5,\n",
        "                        eta=0.2,\n",
        "                        gamma=4,\n",
        "                        min_child_weight=6,\n",
        "                        subsample=0.8,\n",
        "                        silent=0,\n",
        "                        objective='binary:logistic',\n",
        "                        eval_metric = \"auc\",\n",
        "                        num_round=100)\n",
        "\n",
        "xgb.fit(inputs=data_channels)"
      ]
    },
    {
      "cell_type": "markdown",
      "metadata": {
        "id": "uW_3VYF5m__n"
      },
      "source": [
        "Use the batch transformer for your new model, and evaluate the model on the test dataset."
      ]
    },
    {
      "cell_type": "code",
      "execution_count": null,
      "metadata": {
        "id": "6lkmFyONm__n"
      },
      "outputs": [],
      "source": [
        "batch_X = test.iloc[:,1:];\n",
        "batch_X_file='batch-in.csv'\n",
        "upload_s3_csv(batch_X_file, 'batch-in', batch_X)"
      ]
    },
    {
      "cell_type": "code",
      "execution_count": null,
      "metadata": {
        "id": "8LFEI9rnm__n"
      },
      "outputs": [],
      "source": [
        "batch_output = \"s3://{}/{}/batch-out/\".format(bucket,prefix)\n",
        "batch_input = \"s3://{}/{}/batch-in/{}\".format(bucket,prefix,batch_X_file)\n",
        "\n",
        "xgb_transformer = xgb.transformer(instance_count=1,\n",
        "                                       instance_type=instance_type,\n",
        "                                       strategy='MultiRecord',\n",
        "                                       assemble_with='Line',\n",
        "                                       output_path=batch_output)\n",
        "\n",
        "xgb_transformer.transform(data=batch_input,\n",
        "                         data_type='S3Prefix',\n",
        "                         content_type='text/csv',\n",
        "                         split_type='Line')\n",
        "xgb_transformer.wait()"
      ]
    },
    {
      "cell_type": "markdown",
      "metadata": {
        "id": "49x289CIm__o"
      },
      "source": [
        "Get the predicted target and test labels."
      ]
    },
    {
      "cell_type": "code",
      "execution_count": null,
      "metadata": {
        "id": "Iyn5SlsWm__o"
      },
      "outputs": [],
      "source": [
        "s3 = boto3.client('s3')\n",
        "obj = s3.get_object(Bucket=bucket, Key=\"{}/batch-out/{}\".format(prefix,'batch-in.csv.out'))\n",
        "target_predicted = pd.read_csv(io.BytesIO(obj['Body'].read()),sep=',',names=['target'])\n",
        "test_labels = test.iloc[:,0]"
      ]
    },
    {
      "cell_type": "markdown",
      "metadata": {
        "id": "WjFmYAgmm__o"
      },
      "source": [
        "Calculate the predicted values based on the defined threshold.\n",
        "\n",
        "**Note:** The predicted target will be a score, which must be converted to a binary class."
      ]
    },
    {
      "cell_type": "code",
      "execution_count": null,
      "metadata": {
        "id": "veLBjGSrm__o"
      },
      "outputs": [],
      "source": [
        "print(target_predicted.head())\n",
        "\n",
        "def binary_convert(x):\n",
        "    threshold = 0.55\n",
        "    if x > threshold:\n",
        "        return 1\n",
        "    else:\n",
        "        return 0\n",
        "\n",
        "target_predicted['target'] = target_predicted['target'].apply(binary_convert)\n",
        "\n",
        "test_labels = test.iloc[:,0]\n",
        "\n",
        "print(target_predicted.head())"
      ]
    },
    {
      "cell_type": "markdown",
      "metadata": {
        "id": "cPpg_cLpm__o"
      },
      "source": [
        "Plot a confusion matrix for your `target_predicted` and `test_labels`."
      ]
    },
    {
      "cell_type": "code",
      "execution_count": null,
      "metadata": {
        "id": "nO8q1Wjtm__o"
      },
      "outputs": [],
      "source": [
        "# Enter your code here"
      ]
    },
    {
      "cell_type": "markdown",
      "metadata": {
        "id": "VE0_-d2ym__o"
      },
      "source": [
        "### Try different thresholds"
      ]
    },
    {
      "cell_type": "markdown",
      "metadata": {
        "id": "_n5GVGjFm__o"
      },
      "source": [
        "**Question**: Based on how well the model handled the test set, what can you conclude?"
      ]
    },
    {
      "cell_type": "code",
      "execution_count": null,
      "metadata": {
        "id": "TLeoj9WIm__o"
      },
      "outputs": [],
      "source": [
        "#Enter your answer here"
      ]
    },
    {
      "cell_type": "markdown",
      "metadata": {
        "id": "xKc6V7K-m__o"
      },
      "source": [
        "### Hyperparameter optimization (HPO)"
      ]
    },
    {
      "cell_type": "code",
      "execution_count": null,
      "metadata": {
        "id": "-nb0Vrg4m__o"
      },
      "outputs": [],
      "source": [
        "from sagemaker.tuner import IntegerParameter, CategoricalParameter, ContinuousParameter, HyperparameterTuner\n",
        "\n",
        "### You can spin up multiple instances to do hyperparameter optimization in parallel\n",
        "\n",
        "xgb = sagemaker.estimator.Estimator(container,\n",
        "                                    role=sagemaker.get_execution_role(),\n",
        "                                    instance_count= 1, # make sure you have a limit set for these instances\n",
        "                                    instance_type=instance_type,\n",
        "                                    output_path='s3://{}/{}/output'.format(bucket, prefix),\n",
        "                                    sagemaker_session=sess)\n",
        "\n",
        "xgb.set_hyperparameters(eval_metric='auc',\n",
        "                        objective='binary:logistic',\n",
        "                        num_round=100,\n",
        "                        rate_drop=0.3,\n",
        "                        tweedie_variance_power=1.4)\n",
        "\n",
        "hyperparameter_ranges = {'alpha': ContinuousParameter(0, 1000, scaling_type='Linear'),\n",
        "                         'eta': ContinuousParameter(0.1, 0.5, scaling_type='Linear'),\n",
        "                         'min_child_weight': ContinuousParameter(3, 10, scaling_type='Linear'),\n",
        "                         'subsample': ContinuousParameter(0.5, 1),\n",
        "                         'num_round': IntegerParameter(10,150)}\n",
        "\n",
        "objective_metric_name = 'validation:auc'\n",
        "\n",
        "tuner = HyperparameterTuner(xgb,\n",
        "                            objective_metric_name,\n",
        "                            hyperparameter_ranges,\n",
        "                            max_jobs=10, # Set this to 10 or above depending upon budget and available time.\n",
        "                            max_parallel_jobs=1)"
      ]
    },
    {
      "cell_type": "code",
      "execution_count": null,
      "metadata": {
        "id": "i4UZA2jVm__o"
      },
      "outputs": [],
      "source": [
        "tuner.fit(inputs=data_channels)\n",
        "tuner.wait()"
      ]
    },
    {
      "cell_type": "markdown",
      "metadata": {
        "id": "C2bxVmrEm__o"
      },
      "source": [
        "<i class=\"fas fa-exclamation-triangle\" style=\"color:red\"></i> Wait until the training job is finished. It might take 25-30 minutes.\n",
        "\n",
        "**To monitor hyperparameter optimization jobs:**  \n",
        "\n",
        "1. In the AWS Management Console, on the **Services** menu, choose **Amazon SageMaker**.  \n",
        "2. Choose **Training > Hyperparameter tuning jobs**.\n",
        "3. You can check the status of each hyperparameter tuning job, its objective metric value, and its logs.  "
      ]
    },
    {
      "cell_type": "markdown",
      "metadata": {
        "id": "3k0ubqwSm__o"
      },
      "source": [
        "Check that the job completed successfully."
      ]
    },
    {
      "cell_type": "code",
      "execution_count": null,
      "metadata": {
        "id": "pUMUXX-xm__o"
      },
      "outputs": [],
      "source": [
        "boto3.client('sagemaker').describe_hyper_parameter_tuning_job(\n",
        "    HyperParameterTuningJobName=tuner.latest_tuning_job.job_name)['HyperParameterTuningJobStatus']"
      ]
    },
    {
      "cell_type": "markdown",
      "metadata": {
        "id": "Ayi5XEl-m__o"
      },
      "source": [
        "The hyperparameter tuning job will have a model that worked the best. You can get the information about that model from the tuning job."
      ]
    },
    {
      "cell_type": "code",
      "execution_count": null,
      "metadata": {
        "id": "_AAiIUK-m__o"
      },
      "outputs": [],
      "source": [
        "sage_client = boto3.Session().client('sagemaker')\n",
        "tuning_job_name = tuner.latest_tuning_job.job_name\n",
        "print(f'tuning job name:{tuning_job_name}')\n",
        "tuning_job_result = sage_client.describe_hyper_parameter_tuning_job(HyperParameterTuningJobName=tuning_job_name)\n",
        "best_training_job = tuning_job_result['BestTrainingJob']\n",
        "best_training_job_name = best_training_job['TrainingJobName']\n",
        "print(f\"best training job: {best_training_job_name}\")\n",
        "\n",
        "best_estimator = tuner.best_estimator()\n",
        "\n",
        "tuner_df = sagemaker.HyperparameterTuningJobAnalytics(tuning_job_name).dataframe()\n",
        "tuner_df.head()"
      ]
    },
    {
      "cell_type": "markdown",
      "metadata": {
        "id": "WTad9IrLm__o"
      },
      "source": [
        "Use the estimator `best_estimator` and train it by using the data.\n",
        "\n",
        "**Tip:** See the previous XGBoost estimator fit function."
      ]
    },
    {
      "cell_type": "code",
      "execution_count": null,
      "metadata": {
        "id": "OKycb7M_m__o"
      },
      "outputs": [],
      "source": [
        "# Enter your code here"
      ]
    },
    {
      "cell_type": "markdown",
      "metadata": {
        "id": "OI_5heZ3m__p"
      },
      "source": [
        "Use the batch transformer for your new model, and evaluate the model on the test dataset."
      ]
    },
    {
      "cell_type": "code",
      "execution_count": null,
      "metadata": {
        "id": "PKtMOPdCm__p"
      },
      "outputs": [],
      "source": [
        "batch_output = \"s3://{}/{}/batch-out/\".format(bucket,prefix)\n",
        "batch_input = \"s3://{}/{}/batch-in/{}\".format(bucket,prefix,batch_X_file)\n",
        "\n",
        "xgb_transformer = best_estimator.transformer(instance_count=1,\n",
        "                                       instance_type=instance_type,\n",
        "                                       strategy='MultiRecord',\n",
        "                                       assemble_with='Line',\n",
        "                                       output_path=batch_output)\n",
        "\n",
        "xgb_transformer.transform(data=batch_input,\n",
        "                         data_type='S3Prefix',\n",
        "                         content_type='text/csv',\n",
        "                         split_type='Line')\n",
        "xgb_transformer.wait()"
      ]
    },
    {
      "cell_type": "code",
      "execution_count": null,
      "metadata": {
        "id": "U2NuD7d9m__p"
      },
      "outputs": [],
      "source": [
        "s3 = boto3.client('s3')\n",
        "obj = s3.get_object(Bucket=bucket, Key=\"{}/batch-out/{}\".format(prefix,'batch-in.csv.out'))\n",
        "target_predicted = pd.read_csv(io.BytesIO(obj['Body'].read()),sep=',',names=['target'])\n",
        "test_labels = test.iloc[:,0]"
      ]
    },
    {
      "cell_type": "markdown",
      "metadata": {
        "id": "QcSmjbMHm__p"
      },
      "source": [
        "Get the predicted target and test labels."
      ]
    },
    {
      "cell_type": "code",
      "execution_count": null,
      "metadata": {
        "id": "A5HvbQ5Fm__p"
      },
      "outputs": [],
      "source": [
        "print(target_predicted.head())\n",
        "\n",
        "def binary_convert(x):\n",
        "    threshold = 0.55\n",
        "    if x > threshold:\n",
        "        return 1\n",
        "    else:\n",
        "        return 0\n",
        "\n",
        "target_predicted['target'] = target_predicted['target'].apply(binary_convert)\n",
        "\n",
        "test_labels = test.iloc[:,0]\n",
        "\n",
        "print(target_predicted.head())"
      ]
    },
    {
      "cell_type": "markdown",
      "metadata": {
        "id": "h8VFlaBFm__p"
      },
      "source": [
        "Plot a confusion matrix for your `target_predicted` and `test_labels`."
      ]
    },
    {
      "cell_type": "code",
      "execution_count": null,
      "metadata": {
        "id": "tyMxBS7dm__p"
      },
      "outputs": [],
      "source": [
        "# Enter your code here"
      ]
    },
    {
      "cell_type": "markdown",
      "metadata": {
        "id": "L9Btgbr_m__p"
      },
      "source": [
        "**Question**: Try different hyperparameters and hyperparameter ranges. Do these changes improve the model?"
      ]
    },
    {
      "cell_type": "markdown",
      "metadata": {
        "id": "AwOq8Dlbm__p"
      },
      "source": [
        "## Conclusion\n",
        "\n",
        "You have now iterated through training and evaluating your model at least a couple of times. It's time to wrap up this project and reflect on:\n",
        "\n",
        "- What you learned\n",
        "- What types of steps you might take moving forward (assuming that you had more time)\n",
        "\n",
        "Use the following cell to answer some of these questions and other relevant questions:\n",
        "\n",
        "1. Does your model performance meet your business goal? If not, what are some things you'd like to do differently if you had more time for tuning?\n",
        "2. How much did your model improve as you made changes to your dataset, features, and hyperparameters? What types of techniques did you employ throughout this project, and which yielded the greatest improvements in your model?\n",
        "3. What were some of the biggest challenges that you encountered throughout this project?\n",
        "4. Do you have any unanswered questions about aspects of the pipeline that didn't make sense to you?\n",
        "5. What were the three most important things that you learned about machine learning while working on this project?\n",
        "\n",
        "#### <span style=\"color: blue;\">Project presentation: Make sure that you also summarize your answers to these questions in your project presentation. Combine all your notes for your project presentation and prepare to present your findings to the class.</span>"
      ]
    },
    {
      "cell_type": "code",
      "execution_count": null,
      "metadata": {
        "id": "SWWxwSfjm__p"
      },
      "outputs": [],
      "source": [
        "# Write your answers here"
      ]
    }
  ],
  "metadata": {
    "kernelspec": {
      "display_name": "Python 3 (ipykernel)",
      "language": "python",
      "name": "python3"
    },
    "language_info": {
      "codemirror_mode": {
        "name": "ipython",
        "version": 3
      },
      "file_extension": ".py",
      "mimetype": "text/x-python",
      "name": "python",
      "nbconvert_exporter": "python",
      "pygments_lexer": "ipython3",
      "version": "3.11.5"
    },
    "colab": {
      "provenance": [],
      "include_colab_link": true
    }
  },
  "nbformat": 4,
  "nbformat_minor": 0
}
#vishnu did this
